{
 "cells": [
  {
   "cell_type": "markdown",
   "id": "6f0b5991",
   "metadata": {},
   "source": [
    "# 2.1 数据操作"
   ]
  },
  {
   "cell_type": "code",
   "execution_count": 1,
   "id": "54c8ff2f",
   "metadata": {
    "ExecuteTime": {
     "end_time": "2025-10-16T07:57:53.037746Z",
     "start_time": "2025-10-16T07:57:48.114442Z"
    },
    "execution": {
     "iopub.execute_input": "2025-10-23T02:17:00.861784Z",
     "iopub.status.busy": "2025-10-23T02:17:00.861038Z",
     "iopub.status.idle": "2025-10-23T02:17:02.996270Z",
     "shell.execute_reply": "2025-10-23T02:17:02.995129Z",
     "shell.execute_reply.started": "2025-10-23T02:17:00.861755Z"
    },
    "trusted": true
   },
   "outputs": [],
   "source": [
    "import torch"
   ]
  },
  {
   "cell_type": "code",
   "execution_count": 2,
   "id": "ecc1f64c",
   "metadata": {
    "ExecuteTime": {
     "end_time": "2025-10-16T07:57:53.071747Z",
     "start_time": "2025-10-16T07:57:53.063749Z"
    },
    "execution": {
     "iopub.execute_input": "2025-10-23T02:17:02.998658Z",
     "iopub.status.busy": "2025-10-23T02:17:02.998176Z",
     "iopub.status.idle": "2025-10-23T02:17:03.050102Z",
     "shell.execute_reply": "2025-10-23T02:17:03.049140Z",
     "shell.execute_reply.started": "2025-10-23T02:17:02.998627Z"
    },
    "trusted": true
   },
   "outputs": [
    {
     "name": "stdout",
     "output_type": "stream",
     "text": [
      "tensor([ 0,  1,  2,  3,  4,  5,  6,  7,  8,  9, 10, 11])\n"
     ]
    }
   ],
   "source": [
    "x = torch.arange(12)\n",
    "print(x)"
   ]
  },
  {
   "cell_type": "code",
   "execution_count": 3,
   "id": "c36a3962",
   "metadata": {
    "ExecuteTime": {
     "end_time": "2025-10-16T07:57:53.124866Z",
     "start_time": "2025-10-16T07:57:53.112569Z"
    },
    "execution": {
     "iopub.execute_input": "2025-10-23T02:17:03.051406Z",
     "iopub.status.busy": "2025-10-23T02:17:03.051092Z",
     "iopub.status.idle": "2025-10-23T02:17:03.058793Z",
     "shell.execute_reply": "2025-10-23T02:17:03.057911Z",
     "shell.execute_reply.started": "2025-10-23T02:17:03.051384Z"
    },
    "trusted": true
   },
   "outputs": [
    {
     "data": {
      "text/plain": [
       "torch.Size([12])"
      ]
     },
     "execution_count": 3,
     "metadata": {},
     "output_type": "execute_result"
    }
   ],
   "source": [
    "x.shape"
   ]
  },
  {
   "cell_type": "code",
   "execution_count": 4,
   "id": "ca2144b8",
   "metadata": {
    "ExecuteTime": {
     "end_time": "2025-10-16T07:57:53.179187Z",
     "start_time": "2025-10-16T07:57:53.174860Z"
    },
    "execution": {
     "iopub.execute_input": "2025-10-23T02:17:03.060386Z",
     "iopub.status.busy": "2025-10-23T02:17:03.059999Z",
     "iopub.status.idle": "2025-10-23T02:17:03.078781Z",
     "shell.execute_reply": "2025-10-23T02:17:03.077755Z",
     "shell.execute_reply.started": "2025-10-23T02:17:03.060357Z"
    },
    "trusted": true
   },
   "outputs": [
    {
     "data": {
      "text/plain": [
       "12"
      ]
     },
     "execution_count": 4,
     "metadata": {},
     "output_type": "execute_result"
    }
   ],
   "source": [
    "x.numel()"
   ]
  },
  {
   "cell_type": "code",
   "execution_count": 5,
   "id": "aa9732e3",
   "metadata": {
    "ExecuteTime": {
     "end_time": "2025-10-16T07:57:53.223137Z",
     "start_time": "2025-10-16T07:57:53.218183Z"
    },
    "execution": {
     "iopub.execute_input": "2025-10-23T02:17:03.081890Z",
     "iopub.status.busy": "2025-10-23T02:17:03.081523Z",
     "iopub.status.idle": "2025-10-23T02:17:03.098798Z",
     "shell.execute_reply": "2025-10-23T02:17:03.097757Z",
     "shell.execute_reply.started": "2025-10-23T02:17:03.081865Z"
    },
    "trusted": true
   },
   "outputs": [
    {
     "data": {
      "text/plain": [
       "tensor([[ 0,  1,  2,  3],\n",
       "        [ 4,  5,  6,  7],\n",
       "        [ 8,  9, 10, 11]])"
      ]
     },
     "execution_count": 5,
     "metadata": {},
     "output_type": "execute_result"
    }
   ],
   "source": [
    "X = x.reshape(3, 4)\n",
    "X"
   ]
  },
  {
   "cell_type": "code",
   "execution_count": 6,
   "id": "b094a69e",
   "metadata": {
    "ExecuteTime": {
     "end_time": "2025-10-16T07:57:53.263716Z",
     "start_time": "2025-10-16T07:57:53.258132Z"
    },
    "execution": {
     "iopub.execute_input": "2025-10-23T02:17:03.100283Z",
     "iopub.status.busy": "2025-10-23T02:17:03.099967Z",
     "iopub.status.idle": "2025-10-23T02:17:03.149617Z",
     "shell.execute_reply": "2025-10-23T02:17:03.148750Z",
     "shell.execute_reply.started": "2025-10-23T02:17:03.100255Z"
    },
    "trusted": true
   },
   "outputs": [
    {
     "data": {
      "text/plain": [
       "tensor([[[0., 0., 0., 0.],\n",
       "         [0., 0., 0., 0.],\n",
       "         [0., 0., 0., 0.]],\n",
       "\n",
       "        [[0., 0., 0., 0.],\n",
       "         [0., 0., 0., 0.],\n",
       "         [0., 0., 0., 0.]]])"
      ]
     },
     "execution_count": 6,
     "metadata": {},
     "output_type": "execute_result"
    }
   ],
   "source": [
    "torch.zeros((2, 3, 4))"
   ]
  },
  {
   "cell_type": "code",
   "execution_count": 7,
   "id": "4279fcda",
   "metadata": {
    "ExecuteTime": {
     "end_time": "2025-10-16T07:57:53.308293Z",
     "start_time": "2025-10-16T07:57:53.302711Z"
    },
    "execution": {
     "iopub.execute_input": "2025-10-23T02:17:03.151051Z",
     "iopub.status.busy": "2025-10-23T02:17:03.150646Z",
     "iopub.status.idle": "2025-10-23T02:17:03.177543Z",
     "shell.execute_reply": "2025-10-23T02:17:03.176476Z",
     "shell.execute_reply.started": "2025-10-23T02:17:03.151020Z"
    },
    "trusted": true
   },
   "outputs": [
    {
     "data": {
      "text/plain": [
       "tensor([[[1., 1., 1., 1.],\n",
       "         [1., 1., 1., 1.],\n",
       "         [1., 1., 1., 1.]],\n",
       "\n",
       "        [[1., 1., 1., 1.],\n",
       "         [1., 1., 1., 1.],\n",
       "         [1., 1., 1., 1.]]])"
      ]
     },
     "execution_count": 7,
     "metadata": {},
     "output_type": "execute_result"
    }
   ],
   "source": [
    "torch.ones((2, 3, 4))"
   ]
  },
  {
   "cell_type": "code",
   "execution_count": 8,
   "id": "d8839e71",
   "metadata": {
    "ExecuteTime": {
     "end_time": "2025-10-16T07:57:53.352817Z",
     "start_time": "2025-10-16T07:57:53.346294Z"
    },
    "execution": {
     "iopub.execute_input": "2025-10-23T02:17:03.178867Z",
     "iopub.status.busy": "2025-10-23T02:17:03.178518Z",
     "iopub.status.idle": "2025-10-23T02:17:03.188244Z",
     "shell.execute_reply": "2025-10-23T02:17:03.187271Z",
     "shell.execute_reply.started": "2025-10-23T02:17:03.178835Z"
    },
    "trusted": true
   },
   "outputs": [
    {
     "data": {
      "text/plain": [
       "tensor([[ 0.4140, -0.7312,  0.6993,  2.0556],\n",
       "        [-0.1740, -1.1057, -0.5053, -0.5957],\n",
       "        [ 1.4417,  0.5835, -0.1831, -0.2462]])"
      ]
     },
     "execution_count": 8,
     "metadata": {},
     "output_type": "execute_result"
    }
   ],
   "source": [
    "# 每个元素都从均值为0、标准差为1的标准高斯分布（正态分布）中随机采样\n",
    "torch.randn(3, 4)"
   ]
  },
  {
   "cell_type": "code",
   "execution_count": 9,
   "id": "68ca4200",
   "metadata": {
    "ExecuteTime": {
     "end_time": "2025-10-16T07:57:53.404817Z",
     "start_time": "2025-10-16T07:57:53.397452Z"
    },
    "execution": {
     "iopub.execute_input": "2025-10-23T02:17:03.189526Z",
     "iopub.status.busy": "2025-10-23T02:17:03.189210Z",
     "iopub.status.idle": "2025-10-23T02:17:03.202232Z",
     "shell.execute_reply": "2025-10-23T02:17:03.201093Z",
     "shell.execute_reply.started": "2025-10-23T02:17:03.189498Z"
    },
    "trusted": true
   },
   "outputs": [
    {
     "data": {
      "text/plain": [
       "tensor([[2, 1, 4, 3],\n",
       "        [1, 2, 3, 4],\n",
       "        [4, 3, 2, 1]])"
      ]
     },
     "execution_count": 9,
     "metadata": {},
     "output_type": "execute_result"
    }
   ],
   "source": [
    "torch.tensor([[2, 1, 4, 3], [1, 2, 3, 4], [4, 3, 2, 1]])"
   ]
  },
  {
   "cell_type": "code",
   "execution_count": 10,
   "id": "48b1dfef",
   "metadata": {
    "ExecuteTime": {
     "end_time": "2025-10-16T07:57:53.470006Z",
     "start_time": "2025-10-16T07:57:53.460834Z"
    },
    "execution": {
     "iopub.execute_input": "2025-10-23T02:17:03.203789Z",
     "iopub.status.busy": "2025-10-23T02:17:03.203420Z",
     "iopub.status.idle": "2025-10-23T02:17:03.228381Z",
     "shell.execute_reply": "2025-10-23T02:17:03.227408Z",
     "shell.execute_reply.started": "2025-10-23T02:17:03.203761Z"
    },
    "trusted": true
   },
   "outputs": [
    {
     "data": {
      "text/plain": [
       "(tensor([ 3.,  4.,  6., 10.]),\n",
       " tensor([-1.,  0.,  2.,  6.]),\n",
       " tensor([ 2.,  4.,  8., 16.]),\n",
       " tensor([0.5000, 1.0000, 2.0000, 4.0000]),\n",
       " tensor([ 1.,  4., 16., 64.]))"
      ]
     },
     "execution_count": 10,
     "metadata": {},
     "output_type": "execute_result"
    }
   ],
   "source": [
    "x = torch.tensor([1.0, 2, 4, 8])\n",
    "y = torch.tensor([2, 2, 2, 2])\n",
    "x + y, x - y, x * y, x / y, x ** y"
   ]
  },
  {
   "cell_type": "code",
   "execution_count": 11,
   "id": "aa775a14",
   "metadata": {
    "ExecuteTime": {
     "end_time": "2025-10-16T07:57:53.527055Z",
     "start_time": "2025-10-16T07:57:53.519995Z"
    },
    "execution": {
     "iopub.execute_input": "2025-10-23T02:17:03.229506Z",
     "iopub.status.busy": "2025-10-23T02:17:03.229267Z",
     "iopub.status.idle": "2025-10-23T02:17:03.250117Z",
     "shell.execute_reply": "2025-10-23T02:17:03.249096Z",
     "shell.execute_reply.started": "2025-10-23T02:17:03.229487Z"
    },
    "trusted": true
   },
   "outputs": [
    {
     "data": {
      "text/plain": [
       "(tensor([2.7183e+00, 7.3891e+00, 5.4598e+01, 2.9810e+03]),\n",
       " tensor([1.0000, 1.4142, 2.0000, 2.8284]),\n",
       " tensor([ 0.8415,  0.9093, -0.7568,  0.9894]))"
      ]
     },
     "execution_count": 11,
     "metadata": {},
     "output_type": "execute_result"
    }
   ],
   "source": [
    "torch.exp(x), torch.sqrt(x), torch.sin(x)"
   ]
  },
  {
   "cell_type": "code",
   "execution_count": 12,
   "id": "304d5fa0",
   "metadata": {
    "ExecuteTime": {
     "end_time": "2025-10-16T07:57:53.565385Z",
     "start_time": "2025-10-16T07:57:53.557053Z"
    },
    "execution": {
     "iopub.execute_input": "2025-10-23T02:17:03.251555Z",
     "iopub.status.busy": "2025-10-23T02:17:03.251213Z",
     "iopub.status.idle": "2025-10-23T02:17:03.267170Z",
     "shell.execute_reply": "2025-10-23T02:17:03.266155Z",
     "shell.execute_reply.started": "2025-10-23T02:17:03.251523Z"
    },
    "trusted": true
   },
   "outputs": [
    {
     "data": {
      "text/plain": [
       "(tensor([[ 0.,  1.,  2.,  3.],\n",
       "         [ 4.,  5.,  6.,  7.],\n",
       "         [ 8.,  9., 10., 11.],\n",
       "         [ 2.,  1.,  4.,  3.],\n",
       "         [ 1.,  2.,  3.,  4.],\n",
       "         [ 4.,  3.,  2.,  1.]]),\n",
       " tensor([[ 0.,  1.,  2.,  3.,  2.,  1.,  4.,  3.],\n",
       "         [ 4.,  5.,  6.,  7.,  1.,  2.,  3.,  4.],\n",
       "         [ 8.,  9., 10., 11.,  4.,  3.,  2.,  1.]]))"
      ]
     },
     "execution_count": 12,
     "metadata": {},
     "output_type": "execute_result"
    }
   ],
   "source": [
    "X = torch.arange(12, dtype=torch.float32).reshape((3,4))\n",
    "Y = torch.tensor([[2.0, 1, 4, 3], [1, 2, 3, 4], [4, 3, 2, 1]])\n",
    "torch.cat((X, Y), dim=0), torch.cat((X, Y), dim=1)"
   ]
  },
  {
   "cell_type": "code",
   "execution_count": 13,
   "id": "c83eaea0",
   "metadata": {
    "ExecuteTime": {
     "end_time": "2025-10-16T07:57:53.604214Z",
     "start_time": "2025-10-16T07:57:53.599772Z"
    },
    "execution": {
     "iopub.execute_input": "2025-10-23T02:17:03.268446Z",
     "iopub.status.busy": "2025-10-23T02:17:03.268192Z",
     "iopub.status.idle": "2025-10-23T02:17:03.275397Z",
     "shell.execute_reply": "2025-10-23T02:17:03.274479Z",
     "shell.execute_reply.started": "2025-10-23T02:17:03.268428Z"
    },
    "trusted": true
   },
   "outputs": [
    {
     "data": {
      "text/plain": [
       "tensor([[False,  True, False,  True],\n",
       "        [False, False, False, False],\n",
       "        [False, False, False, False]])"
      ]
     },
     "execution_count": 13,
     "metadata": {},
     "output_type": "execute_result"
    }
   ],
   "source": [
    "X == Y"
   ]
  },
  {
   "cell_type": "code",
   "execution_count": 14,
   "id": "6a71efbd",
   "metadata": {
    "ExecuteTime": {
     "end_time": "2025-10-16T07:57:53.652806Z",
     "start_time": "2025-10-16T07:57:53.646212Z"
    },
    "execution": {
     "iopub.execute_input": "2025-10-23T02:17:03.279112Z",
     "iopub.status.busy": "2025-10-23T02:17:03.278845Z",
     "iopub.status.idle": "2025-10-23T02:17:03.294751Z",
     "shell.execute_reply": "2025-10-23T02:17:03.293835Z",
     "shell.execute_reply.started": "2025-10-23T02:17:03.279093Z"
    },
    "trusted": true
   },
   "outputs": [
    {
     "data": {
      "text/plain": [
       "tensor(66.)"
      ]
     },
     "execution_count": 14,
     "metadata": {},
     "output_type": "execute_result"
    }
   ],
   "source": [
    "X.sum()"
   ]
  },
  {
   "cell_type": "code",
   "execution_count": 15,
   "id": "c77e32b4",
   "metadata": {
    "ExecuteTime": {
     "end_time": "2025-10-16T07:57:53.696745Z",
     "start_time": "2025-10-16T07:57:53.690807Z"
    },
    "execution": {
     "iopub.execute_input": "2025-10-23T02:17:03.297430Z",
     "iopub.status.busy": "2025-10-23T02:17:03.295799Z",
     "iopub.status.idle": "2025-10-23T02:17:03.311802Z",
     "shell.execute_reply": "2025-10-23T02:17:03.310767Z",
     "shell.execute_reply.started": "2025-10-23T02:17:03.297395Z"
    },
    "trusted": true
   },
   "outputs": [
    {
     "data": {
      "text/plain": [
       "(tensor([[0],\n",
       "         [1],\n",
       "         [2]]),\n",
       " tensor([[0, 1]]))"
      ]
     },
     "execution_count": 15,
     "metadata": {},
     "output_type": "execute_result"
    }
   ],
   "source": [
    "a = torch.arange(3).reshape((3, 1))\n",
    "b = torch.arange(2).reshape((1, 2))\n",
    "a, b"
   ]
  },
  {
   "cell_type": "code",
   "execution_count": 16,
   "id": "ced7b51a",
   "metadata": {
    "ExecuteTime": {
     "end_time": "2025-10-16T07:57:53.738256Z",
     "start_time": "2025-10-16T07:57:53.731252Z"
    },
    "execution": {
     "iopub.execute_input": "2025-10-23T02:17:03.313325Z",
     "iopub.status.busy": "2025-10-23T02:17:03.312912Z",
     "iopub.status.idle": "2025-10-23T02:17:03.324980Z",
     "shell.execute_reply": "2025-10-23T02:17:03.323980Z",
     "shell.execute_reply.started": "2025-10-23T02:17:03.313292Z"
    },
    "trusted": true
   },
   "outputs": [
    {
     "data": {
      "text/plain": [
       "tensor([[0, 1],\n",
       "        [1, 2],\n",
       "        [2, 3]])"
      ]
     },
     "execution_count": 16,
     "metadata": {},
     "output_type": "execute_result"
    }
   ],
   "source": [
    "a + b"
   ]
  },
  {
   "cell_type": "code",
   "execution_count": 17,
   "id": "f7fa6220",
   "metadata": {
    "ExecuteTime": {
     "end_time": "2025-10-16T07:57:53.784641Z",
     "start_time": "2025-10-16T07:57:53.777255Z"
    },
    "execution": {
     "iopub.execute_input": "2025-10-23T02:17:03.326578Z",
     "iopub.status.busy": "2025-10-23T02:17:03.326183Z",
     "iopub.status.idle": "2025-10-23T02:17:03.346738Z",
     "shell.execute_reply": "2025-10-23T02:17:03.345756Z",
     "shell.execute_reply.started": "2025-10-23T02:17:03.326546Z"
    },
    "trusted": true
   },
   "outputs": [
    {
     "data": {
      "text/plain": [
       "(tensor([ 8.,  9., 10., 11.]),\n",
       " tensor([[ 4.,  5.,  6.,  7.],\n",
       "         [ 8.,  9., 10., 11.]]))"
      ]
     },
     "execution_count": 17,
     "metadata": {},
     "output_type": "execute_result"
    }
   ],
   "source": [
    "X[-1], X[1:3]"
   ]
  },
  {
   "cell_type": "code",
   "execution_count": 18,
   "id": "3c460969",
   "metadata": {
    "ExecuteTime": {
     "end_time": "2025-10-16T07:57:53.827211Z",
     "start_time": "2025-10-16T07:57:53.821164Z"
    },
    "execution": {
     "iopub.execute_input": "2025-10-23T02:17:03.348008Z",
     "iopub.status.busy": "2025-10-23T02:17:03.347634Z",
     "iopub.status.idle": "2025-10-23T02:17:03.362247Z",
     "shell.execute_reply": "2025-10-23T02:17:03.361263Z",
     "shell.execute_reply.started": "2025-10-23T02:17:03.347977Z"
    },
    "trusted": true
   },
   "outputs": [
    {
     "data": {
      "text/plain": [
       "tensor([[ 0.,  1.,  2.,  3.],\n",
       "        [ 4.,  5.,  9.,  7.],\n",
       "        [ 8.,  9., 10., 11.]])"
      ]
     },
     "execution_count": 18,
     "metadata": {},
     "output_type": "execute_result"
    }
   ],
   "source": [
    "X[1, 2] = 9\n",
    "X"
   ]
  },
  {
   "cell_type": "code",
   "execution_count": 19,
   "id": "3332b462",
   "metadata": {
    "ExecuteTime": {
     "end_time": "2025-10-16T07:57:53.867889Z",
     "start_time": "2025-10-16T07:57:53.861208Z"
    },
    "execution": {
     "iopub.execute_input": "2025-10-23T02:17:03.363679Z",
     "iopub.status.busy": "2025-10-23T02:17:03.363348Z",
     "iopub.status.idle": "2025-10-23T02:17:03.379052Z",
     "shell.execute_reply": "2025-10-23T02:17:03.377970Z",
     "shell.execute_reply.started": "2025-10-23T02:17:03.363650Z"
    },
    "trusted": true
   },
   "outputs": [
    {
     "data": {
      "text/plain": [
       "tensor([[12., 12., 12., 12.],\n",
       "        [12., 12., 12., 12.],\n",
       "        [ 8.,  9., 10., 11.]])"
      ]
     },
     "execution_count": 19,
     "metadata": {},
     "output_type": "execute_result"
    }
   ],
   "source": [
    "X[0:2, :] = 12\n",
    "X"
   ]
  },
  {
   "cell_type": "code",
   "execution_count": 20,
   "id": "0e99b298",
   "metadata": {
    "ExecuteTime": {
     "end_time": "2025-10-16T07:57:53.906191Z",
     "start_time": "2025-10-16T07:57:53.901887Z"
    },
    "execution": {
     "iopub.execute_input": "2025-10-23T02:17:03.380508Z",
     "iopub.status.busy": "2025-10-23T02:17:03.380148Z",
     "iopub.status.idle": "2025-10-23T02:17:03.392732Z",
     "shell.execute_reply": "2025-10-23T02:17:03.391706Z",
     "shell.execute_reply.started": "2025-10-23T02:17:03.380476Z"
    },
    "trusted": true
   },
   "outputs": [
    {
     "data": {
      "text/plain": [
       "138359532164624"
      ]
     },
     "execution_count": 20,
     "metadata": {},
     "output_type": "execute_result"
    }
   ],
   "source": [
    "before = id(Y)\n",
    "before"
   ]
  },
  {
   "cell_type": "code",
   "execution_count": 21,
   "id": "c34d30a2",
   "metadata": {
    "ExecuteTime": {
     "end_time": "2025-10-16T07:57:53.948363Z",
     "start_time": "2025-10-16T07:57:53.943187Z"
    },
    "execution": {
     "iopub.execute_input": "2025-10-23T02:17:03.394166Z",
     "iopub.status.busy": "2025-10-23T02:17:03.393754Z",
     "iopub.status.idle": "2025-10-23T02:17:03.411206Z",
     "shell.execute_reply": "2025-10-23T02:17:03.409902Z",
     "shell.execute_reply.started": "2025-10-23T02:17:03.394137Z"
    },
    "trusted": true
   },
   "outputs": [
    {
     "data": {
      "text/plain": [
       "138359532164048"
      ]
     },
     "execution_count": 21,
     "metadata": {},
     "output_type": "execute_result"
    }
   ],
   "source": [
    "Y = Y + X\n",
    "id(Y)"
   ]
  },
  {
   "cell_type": "markdown",
   "id": "ea739cd0",
   "metadata": {},
   "source": [
    "这可能是不可取的，原因有两个：\n",
    "1. 首先，我们不想总是不必要地分配内存。\n",
    "2. 如果我们不原地更新，其他引用仍然会指向旧的内存位置，这样我们的某些代码可能会无意中引用旧的参数。"
   ]
  },
  {
   "cell_type": "code",
   "execution_count": 22,
   "id": "37422c1b",
   "metadata": {
    "ExecuteTime": {
     "end_time": "2025-10-16T07:57:54.012357Z",
     "start_time": "2025-10-16T07:57:54.007357Z"
    },
    "execution": {
     "iopub.execute_input": "2025-10-23T02:17:03.412483Z",
     "iopub.status.busy": "2025-10-23T02:17:03.412156Z",
     "iopub.status.idle": "2025-10-23T02:17:03.429007Z",
     "shell.execute_reply": "2025-10-23T02:17:03.427763Z",
     "shell.execute_reply.started": "2025-10-23T02:17:03.412411Z"
    },
    "trusted": true
   },
   "outputs": [
    {
     "data": {
      "text/plain": [
       "True"
      ]
     },
     "execution_count": 22,
     "metadata": {},
     "output_type": "execute_result"
    }
   ],
   "source": [
    "before = id(Y)\n",
    "Y += X\n",
    "before == id(Y)"
   ]
  },
  {
   "cell_type": "code",
   "execution_count": 23,
   "id": "6c9a874f",
   "metadata": {
    "ExecuteTime": {
     "end_time": "2025-10-16T07:57:54.052358Z",
     "start_time": "2025-10-16T07:57:54.045356Z"
    },
    "execution": {
     "iopub.execute_input": "2025-10-23T02:17:03.430375Z",
     "iopub.status.busy": "2025-10-23T02:17:03.430082Z",
     "iopub.status.idle": "2025-10-23T02:17:03.442559Z",
     "shell.execute_reply": "2025-10-23T02:17:03.441547Z",
     "shell.execute_reply.started": "2025-10-23T02:17:03.430352Z"
    },
    "trusted": true
   },
   "outputs": [
    {
     "name": "stdout",
     "output_type": "stream",
     "text": [
      "id(Z): 138359532163856\n",
      "id(Z): 138359532163856\n"
     ]
    }
   ],
   "source": [
    "Z = torch.zeros_like(Y)\n",
    "print('id(Z):', id(Z))\n",
    "Z[:] = X + Y\n",
    "print('id(Z):', id(Z))"
   ]
  },
  {
   "cell_type": "code",
   "execution_count": 24,
   "id": "d2c7250e",
   "metadata": {
    "ExecuteTime": {
     "end_time": "2025-10-16T07:57:54.092356Z",
     "start_time": "2025-10-16T07:57:54.085359Z"
    },
    "execution": {
     "iopub.execute_input": "2025-10-23T02:17:03.443971Z",
     "iopub.status.busy": "2025-10-23T02:17:03.443637Z",
     "iopub.status.idle": "2025-10-23T02:17:03.457983Z",
     "shell.execute_reply": "2025-10-23T02:17:03.456902Z",
     "shell.execute_reply.started": "2025-10-23T02:17:03.443945Z"
    },
    "trusted": true
   },
   "outputs": [
    {
     "data": {
      "text/plain": [
       "(numpy.ndarray, torch.Tensor)"
      ]
     },
     "execution_count": 24,
     "metadata": {},
     "output_type": "execute_result"
    }
   ],
   "source": [
    "A = X.numpy()\n",
    "B = torch.tensor(A)\n",
    "type(A), type(B)"
   ]
  },
  {
   "cell_type": "code",
   "execution_count": 25,
   "id": "7dff5652",
   "metadata": {
    "ExecuteTime": {
     "end_time": "2025-10-16T07:57:54.128539Z",
     "start_time": "2025-10-16T07:57:54.123357Z"
    },
    "execution": {
     "iopub.execute_input": "2025-10-23T02:17:03.459550Z",
     "iopub.status.busy": "2025-10-23T02:17:03.459152Z",
     "iopub.status.idle": "2025-10-23T02:17:03.477366Z",
     "shell.execute_reply": "2025-10-23T02:17:03.476360Z",
     "shell.execute_reply.started": "2025-10-23T02:17:03.459523Z"
    },
    "trusted": true
   },
   "outputs": [
    {
     "data": {
      "text/plain": [
       "(tensor([3.5000]), 3.5, 3.5, 3)"
      ]
     },
     "execution_count": 25,
     "metadata": {},
     "output_type": "execute_result"
    }
   ],
   "source": [
    "a = torch.tensor([3.5])\n",
    "a, a.item(), float(a), int(a)  # item() 只能用于包含单个元素的张量"
   ]
  },
  {
   "cell_type": "code",
   "execution_count": 26,
   "id": "34893ec6",
   "metadata": {
    "ExecuteTime": {
     "end_time": "2025-10-16T07:57:54.164188Z",
     "start_time": "2025-10-16T07:57:54.158534Z"
    },
    "execution": {
     "iopub.execute_input": "2025-10-23T02:17:03.478633Z",
     "iopub.status.busy": "2025-10-23T02:17:03.478363Z",
     "iopub.status.idle": "2025-10-23T02:17:03.493354Z",
     "shell.execute_reply": "2025-10-23T02:17:03.492449Z",
     "shell.execute_reply.started": "2025-10-23T02:17:03.478613Z"
    },
    "trusted": true
   },
   "outputs": [
    {
     "data": {
      "text/plain": [
       "tensor([[True, True, True, True],\n",
       "        [True, True, True, True],\n",
       "        [True, True, True, True]])"
      ]
     },
     "execution_count": 26,
     "metadata": {},
     "output_type": "execute_result"
    }
   ],
   "source": [
    "X < Y"
   ]
  },
  {
   "cell_type": "markdown",
   "id": "ab3faf34",
   "metadata": {},
   "source": [
    "# 2.2 数据预处理"
   ]
  },
  {
   "cell_type": "code",
   "execution_count": 27,
   "id": "1d358d2d",
   "metadata": {
    "ExecuteTime": {
     "end_time": "2025-10-16T07:57:54.203270Z",
     "start_time": "2025-10-16T07:57:54.196487Z"
    },
    "execution": {
     "iopub.execute_input": "2025-10-23T02:17:03.495064Z",
     "iopub.status.busy": "2025-10-23T02:17:03.494680Z",
     "iopub.status.idle": "2025-10-23T02:17:03.508829Z",
     "shell.execute_reply": "2025-10-23T02:17:03.507490Z",
     "shell.execute_reply.started": "2025-10-23T02:17:03.495035Z"
    },
    "trusted": true
   },
   "outputs": [],
   "source": [
    "import os\n",
    "\n",
    "os.makedirs('data')\n",
    "data_file = os.path.join('data', 'house_tiny.csv')\n",
    "with open(data_file, 'w') as f:\n",
    "    f.write('NumRooms,Alley,Price\\n')  # 列名\n",
    "    f.write('NA,Pave,127500\\n')  # 每行表示一个数据样本\n",
    "    f.write('2,NA,106000\\n')\n",
    "    f.write('4,NA,178100\\n')\n",
    "    f.write('NA,NA,140000\\n')"
   ]
  },
  {
   "cell_type": "code",
   "execution_count": 28,
   "id": "dac51740",
   "metadata": {
    "ExecuteTime": {
     "end_time": "2025-10-16T07:57:55.145211Z",
     "start_time": "2025-10-16T07:57:54.233273Z"
    },
    "execution": {
     "iopub.execute_input": "2025-10-23T02:17:03.510410Z",
     "iopub.status.busy": "2025-10-23T02:17:03.509997Z",
     "iopub.status.idle": "2025-10-23T02:17:03.935539Z",
     "shell.execute_reply": "2025-10-23T02:17:03.934371Z",
     "shell.execute_reply.started": "2025-10-23T02:17:03.510367Z"
    },
    "trusted": true
   },
   "outputs": [
    {
     "name": "stdout",
     "output_type": "stream",
     "text": [
      "   NumRooms Alley   Price\n",
      "0       NaN  Pave  127500\n",
      "1       2.0   NaN  106000\n",
      "2       4.0   NaN  178100\n",
      "3       NaN   NaN  140000\n"
     ]
    },
    {
     "name": "stderr",
     "output_type": "stream",
     "text": [
      "/usr/local/lib/python3.11/dist-packages/pandas/io/formats/format.py:1458: RuntimeWarning: invalid value encountered in greater\n",
      "  has_large_values = (abs_vals > 1e6).any()\n",
      "/usr/local/lib/python3.11/dist-packages/pandas/io/formats/format.py:1459: RuntimeWarning: invalid value encountered in less\n",
      "  has_small_values = ((abs_vals < 10 ** (-self.digits)) & (abs_vals > 0)).any()\n",
      "/usr/local/lib/python3.11/dist-packages/pandas/io/formats/format.py:1459: RuntimeWarning: invalid value encountered in greater\n",
      "  has_small_values = ((abs_vals < 10 ** (-self.digits)) & (abs_vals > 0)).any()\n"
     ]
    }
   ],
   "source": [
    "import pandas as pd\n",
    "\n",
    "data = pd.read_csv(data_file)\n",
    "print(data)"
   ]
  },
  {
   "cell_type": "markdown",
   "id": "90160b47",
   "metadata": {},
   "source": [
    "**插值法处理缺失值**"
   ]
  },
  {
   "cell_type": "code",
   "execution_count": 29,
   "id": "2fd911cf",
   "metadata": {
    "ExecuteTime": {
     "end_time": "2025-10-16T07:57:55.168568Z",
     "start_time": "2025-10-16T07:57:55.157726Z"
    },
    "execution": {
     "iopub.execute_input": "2025-10-23T02:17:03.937114Z",
     "iopub.status.busy": "2025-10-23T02:17:03.936764Z",
     "iopub.status.idle": "2025-10-23T02:17:03.949662Z",
     "shell.execute_reply": "2025-10-23T02:17:03.948621Z",
     "shell.execute_reply.started": "2025-10-23T02:17:03.937085Z"
    },
    "trusted": true
   },
   "outputs": [
    {
     "name": "stdout",
     "output_type": "stream",
     "text": [
      "   NumRooms Alley\n",
      "0       3.0  Pave\n",
      "1       2.0   NaN\n",
      "2       4.0   NaN\n",
      "3       3.0   NaN\n"
     ]
    }
   ],
   "source": [
    "inputs, outputs = data.iloc[:, 0:2], data.iloc[:, 2]\n",
    "inputs['NumRooms'] = inputs['NumRooms'].fillna(inputs['NumRooms'].mean())\n",
    "# inputs['Alley'] = inputs['Alley'].fillna(inputs['Alley'].mode()[0])\n",
    "print(inputs)"
   ]
  },
  {
   "cell_type": "markdown",
   "id": "4db1681b",
   "metadata": {},
   "source": [
    "`pd.get_dummies` 是 pandas 库中的一个函数，用于将分类变量转换为虚拟变量（也称为独热编码）。\n",
    "+ inputs 是一个 DataFrame，其中包含需要转换的分类变量。\n",
    "+ dummy_na=True 参数表示将缺失值（NaN）也作为一个独立的类别进行编码。如果不设置这个参数，缺失值会被忽略。"
   ]
  },
  {
   "cell_type": "code",
   "execution_count": 30,
   "id": "d96677af",
   "metadata": {
    "ExecuteTime": {
     "end_time": "2025-10-16T07:57:55.226358Z",
     "start_time": "2025-10-16T07:57:55.212563Z"
    },
    "execution": {
     "iopub.execute_input": "2025-10-23T02:17:03.953287Z",
     "iopub.status.busy": "2025-10-23T02:17:03.952572Z",
     "iopub.status.idle": "2025-10-23T02:17:03.979639Z",
     "shell.execute_reply": "2025-10-23T02:17:03.978581Z",
     "shell.execute_reply.started": "2025-10-23T02:17:03.953260Z"
    },
    "trusted": true
   },
   "outputs": [
    {
     "name": "stdout",
     "output_type": "stream",
     "text": [
      "   NumRooms  Alley_Pave  Alley_nan\n",
      "0       3.0        True      False\n",
      "1       2.0       False       True\n",
      "2       4.0       False       True\n",
      "3       3.0       False       True\n"
     ]
    }
   ],
   "source": [
    "inputs = pd.get_dummies(inputs, dummy_na=True)\n",
    "print(inputs)"
   ]
  },
  {
   "cell_type": "code",
   "execution_count": 31,
   "id": "ecadf131",
   "metadata": {
    "ExecuteTime": {
     "end_time": "2025-10-16T07:57:55.279297Z",
     "start_time": "2025-10-16T07:57:55.263357Z"
    },
    "execution": {
     "iopub.execute_input": "2025-10-23T02:17:03.980678Z",
     "iopub.status.busy": "2025-10-23T02:17:03.980448Z",
     "iopub.status.idle": "2025-10-23T02:17:04.001879Z",
     "shell.execute_reply": "2025-10-23T02:17:04.000729Z",
     "shell.execute_reply.started": "2025-10-23T02:17:03.980658Z"
    },
    "trusted": true
   },
   "outputs": [
    {
     "data": {
      "text/plain": [
       "(tensor([[3., 1., 0.],\n",
       "         [2., 0., 1.],\n",
       "         [4., 0., 1.],\n",
       "         [3., 0., 1.]], dtype=torch.float64),\n",
       " tensor([127500., 106000., 178100., 140000.], dtype=torch.float64))"
      ]
     },
     "execution_count": 31,
     "metadata": {},
     "output_type": "execute_result"
    }
   ],
   "source": [
    "import torch\n",
    "\n",
    "X = torch.tensor(inputs.to_numpy(dtype=float))\n",
    "y = torch.tensor(outputs.to_numpy(dtype=float))\n",
    "X, y"
   ]
  },
  {
   "cell_type": "markdown",
   "id": "e1e94847",
   "metadata": {},
   "source": [
    "## 练习\n",
    "创建包含更多行和列的原始数据集\n",
    "+ 删除缺失值最多的列\n",
    "+ 将预处理后的数据集转换为张量格式"
   ]
  },
  {
   "cell_type": "markdown",
   "id": "1b40016b",
   "metadata": {},
   "source": [
    "# 2.3 线性代数"
   ]
  },
  {
   "cell_type": "code",
   "execution_count": 33,
   "id": "f480e556-3d38-4922-b403-fcec041112df",
   "metadata": {
    "execution": {
     "iopub.execute_input": "2025-10-23T02:19:17.953103Z",
     "iopub.status.busy": "2025-10-23T02:19:17.952792Z",
     "iopub.status.idle": "2025-10-23T02:19:17.958391Z",
     "shell.execute_reply": "2025-10-23T02:19:17.957364Z",
     "shell.execute_reply.started": "2025-10-23T02:19:17.953082Z"
    },
    "trusted": true
   },
   "outputs": [],
   "source": [
    "import torch\n",
    "\n",
    "x = torch.tensor(3.0)\n",
    "y = torch.tensor(2.0)"
   ]
  },
  {
   "cell_type": "code",
   "execution_count": 34,
   "id": "448d3793-a932-4d76-ad7f-8c4822d50736",
   "metadata": {
    "execution": {
     "iopub.execute_input": "2025-10-23T02:19:47.755088Z",
     "iopub.status.busy": "2025-10-23T02:19:47.754797Z",
     "iopub.status.idle": "2025-10-23T02:19:47.763780Z",
     "shell.execute_reply": "2025-10-23T02:19:47.762920Z",
     "shell.execute_reply.started": "2025-10-23T02:19:47.755067Z"
    },
    "trusted": true
   },
   "outputs": [
    {
     "data": {
      "text/plain": [
       "(tensor(5.), tensor(6.), tensor(1.5000), tensor(9.))"
      ]
     },
     "execution_count": 34,
     "metadata": {},
     "output_type": "execute_result"
    }
   ],
   "source": [
    "x + y, x * y, x / y, x**y"
   ]
  },
  {
   "cell_type": "code",
   "execution_count": 36,
   "id": "80b4ba17-d42c-47cb-8203-3d10621970c0",
   "metadata": {
    "execution": {
     "iopub.execute_input": "2025-10-23T02:23:15.930240Z",
     "iopub.status.busy": "2025-10-23T02:23:15.929903Z",
     "iopub.status.idle": "2025-10-23T02:23:15.939562Z",
     "shell.execute_reply": "2025-10-23T02:23:15.938450Z",
     "shell.execute_reply.started": "2025-10-23T02:23:15.930211Z"
    },
    "trusted": true
   },
   "outputs": [
    {
     "data": {
      "text/plain": [
       "(tensor([[ 0,  1,  2,  3],\n",
       "         [ 4,  5,  6,  7],\n",
       "         [ 8,  9, 10, 11],\n",
       "         [12, 13, 14, 15],\n",
       "         [16, 17, 18, 19]]),\n",
       " tensor([[ 0,  4,  8, 12, 16],\n",
       "         [ 1,  5,  9, 13, 17],\n",
       "         [ 2,  6, 10, 14, 18],\n",
       "         [ 3,  7, 11, 15, 19]]))"
      ]
     },
     "execution_count": 36,
     "metadata": {},
     "output_type": "execute_result"
    }
   ],
   "source": [
    "A = torch.arange(20).reshape(5, 4)\n",
    "A, A.T"
   ]
  },
  {
   "cell_type": "code",
   "execution_count": 37,
   "id": "6cf5d5d1-8dce-4ba1-b703-55aab050af82",
   "metadata": {
    "execution": {
     "iopub.execute_input": "2025-10-23T02:23:22.425442Z",
     "iopub.status.busy": "2025-10-23T02:23:22.425080Z",
     "iopub.status.idle": "2025-10-23T02:23:22.433274Z",
     "shell.execute_reply": "2025-10-23T02:23:22.432151Z",
     "shell.execute_reply.started": "2025-10-23T02:23:22.425415Z"
    },
    "trusted": true
   },
   "outputs": [
    {
     "data": {
      "text/plain": [
       "tensor([[1, 2, 3],\n",
       "        [2, 0, 4],\n",
       "        [3, 4, 5]])"
      ]
     },
     "execution_count": 37,
     "metadata": {},
     "output_type": "execute_result"
    }
   ],
   "source": [
    "B = torch.tensor([[1, 2, 3], [2, 0, 4], [3, 4, 5]])\n",
    "B"
   ]
  },
  {
   "cell_type": "code",
   "execution_count": 39,
   "id": "197d4e04-bb5a-410f-a8bc-be1f35254b45",
   "metadata": {
    "execution": {
     "iopub.execute_input": "2025-10-23T02:23:30.979951Z",
     "iopub.status.busy": "2025-10-23T02:23:30.979617Z",
     "iopub.status.idle": "2025-10-23T02:23:30.987927Z",
     "shell.execute_reply": "2025-10-23T02:23:30.986929Z",
     "shell.execute_reply.started": "2025-10-23T02:23:30.979930Z"
    },
    "trusted": true
   },
   "outputs": [
    {
     "data": {
      "text/plain": [
       "tensor([[True, True, True],\n",
       "        [True, True, True],\n",
       "        [True, True, True]])"
      ]
     },
     "execution_count": 39,
     "metadata": {},
     "output_type": "execute_result"
    }
   ],
   "source": [
    "B == B.T"
   ]
  },
  {
   "cell_type": "code",
   "execution_count": 40,
   "id": "2e0b3394-de51-41f2-af9d-40e987943810",
   "metadata": {
    "execution": {
     "iopub.execute_input": "2025-10-23T03:04:30.532149Z",
     "iopub.status.busy": "2025-10-23T03:04:30.527862Z",
     "iopub.status.idle": "2025-10-23T03:04:30.558718Z",
     "shell.execute_reply": "2025-10-23T03:04:30.557158Z",
     "shell.execute_reply.started": "2025-10-23T03:04:30.532066Z"
    },
    "trusted": true
   },
   "outputs": [
    {
     "data": {
      "text/plain": [
       "(tensor([[ 0.,  1.,  2.,  3.],\n",
       "         [ 4.,  5.,  6.,  7.],\n",
       "         [ 8.,  9., 10., 11.],\n",
       "         [12., 13., 14., 15.],\n",
       "         [16., 17., 18., 19.]]),\n",
       " tensor([[ 0.,  2.,  4.,  6.],\n",
       "         [ 8., 10., 12., 14.],\n",
       "         [16., 18., 20., 22.],\n",
       "         [24., 26., 28., 30.],\n",
       "         [32., 34., 36., 38.]]))"
      ]
     },
     "execution_count": 40,
     "metadata": {},
     "output_type": "execute_result"
    }
   ],
   "source": [
    "A = torch.arange(20, dtype=torch.float32).reshape(5, 4)\n",
    "B = A.clone()  # 通过分配新内存，将A的一个副本分配给B\n",
    "A, A + B"
   ]
  },
  {
   "cell_type": "markdown",
   "id": "a85f68df-82c4-499a-a655-dca83188ce49",
   "metadata": {},
   "source": [
    "两个矩阵的按元素乘法称为Hadamard积，数学符号⊙"
   ]
  },
  {
   "cell_type": "code",
   "execution_count": 41,
   "id": "947f7009-2490-44f4-8770-6f8f7bdef197",
   "metadata": {
    "execution": {
     "iopub.execute_input": "2025-10-23T03:06:32.706064Z",
     "iopub.status.busy": "2025-10-23T03:06:32.704351Z",
     "iopub.status.idle": "2025-10-23T03:06:32.717273Z",
     "shell.execute_reply": "2025-10-23T03:06:32.715915Z",
     "shell.execute_reply.started": "2025-10-23T03:06:32.706019Z"
    },
    "trusted": true
   },
   "outputs": [
    {
     "data": {
      "text/plain": [
       "tensor([[  0.,   1.,   4.,   9.],\n",
       "        [ 16.,  25.,  36.,  49.],\n",
       "        [ 64.,  81., 100., 121.],\n",
       "        [144., 169., 196., 225.],\n",
       "        [256., 289., 324., 361.]])"
      ]
     },
     "execution_count": 41,
     "metadata": {},
     "output_type": "execute_result"
    }
   ],
   "source": [
    "A * B"
   ]
  },
  {
   "cell_type": "code",
   "execution_count": 42,
   "id": "9898ecc8-1a4e-4549-9cef-cf2bc145e0c4",
   "metadata": {
    "execution": {
     "iopub.execute_input": "2025-10-23T03:08:34.508023Z",
     "iopub.status.busy": "2025-10-23T03:08:34.507585Z",
     "iopub.status.idle": "2025-10-23T03:08:34.520338Z",
     "shell.execute_reply": "2025-10-23T03:08:34.519440Z",
     "shell.execute_reply.started": "2025-10-23T03:08:34.507983Z"
    },
    "trusted": true
   },
   "outputs": [
    {
     "data": {
      "text/plain": [
       "(tensor([[[ 2,  3,  4,  5],\n",
       "          [ 6,  7,  8,  9],\n",
       "          [10, 11, 12, 13]],\n",
       " \n",
       "         [[14, 15, 16, 17],\n",
       "          [18, 19, 20, 21],\n",
       "          [22, 23, 24, 25]]]),\n",
       " torch.Size([2, 3, 4]))"
      ]
     },
     "execution_count": 42,
     "metadata": {},
     "output_type": "execute_result"
    }
   ],
   "source": [
    "a = 2\n",
    "X = torch.arange(24).reshape(2, 3, 4)\n",
    "a + X, (a * X).shape"
   ]
  },
  {
   "cell_type": "code",
   "execution_count": 43,
   "id": "2147775a-713f-4aa1-a62d-4cad9fd2fccb",
   "metadata": {
    "execution": {
     "iopub.execute_input": "2025-10-23T03:09:00.476662Z",
     "iopub.status.busy": "2025-10-23T03:09:00.475414Z",
     "iopub.status.idle": "2025-10-23T03:09:00.486422Z",
     "shell.execute_reply": "2025-10-23T03:09:00.485405Z",
     "shell.execute_reply.started": "2025-10-23T03:09:00.476623Z"
    },
    "trusted": true
   },
   "outputs": [
    {
     "data": {
      "text/plain": [
       "(tensor([0., 1., 2., 3.]), tensor(6.))"
      ]
     },
     "execution_count": 43,
     "metadata": {},
     "output_type": "execute_result"
    }
   ],
   "source": [
    "x = torch.arange(4, dtype=torch.float32)\n",
    "x, x.sum()"
   ]
  },
  {
   "cell_type": "code",
   "execution_count": 44,
   "id": "19da4fe5-c217-4699-932b-b97f8068caf7",
   "metadata": {
    "execution": {
     "iopub.execute_input": "2025-10-23T03:09:31.295932Z",
     "iopub.status.busy": "2025-10-23T03:09:31.295508Z",
     "iopub.status.idle": "2025-10-23T03:09:31.304574Z",
     "shell.execute_reply": "2025-10-23T03:09:31.303240Z",
     "shell.execute_reply.started": "2025-10-23T03:09:31.295904Z"
    },
    "trusted": true
   },
   "outputs": [
    {
     "data": {
      "text/plain": [
       "tensor([[ 0.,  1.,  2.,  3.],\n",
       "        [ 4.,  5.,  6.,  7.],\n",
       "        [ 8.,  9., 10., 11.],\n",
       "        [12., 13., 14., 15.],\n",
       "        [16., 17., 18., 19.]])"
      ]
     },
     "execution_count": 44,
     "metadata": {},
     "output_type": "execute_result"
    }
   ],
   "source": [
    "A"
   ]
  },
  {
   "cell_type": "markdown",
   "id": "33c56a98-9c68-4d4b-a0e8-56019f2a7166",
   "metadata": {},
   "source": [
    "可以指定张量沿哪一个轴来通过求和降低维度"
   ]
  },
  {
   "cell_type": "code",
   "execution_count": 45,
   "id": "15abd0f2-2261-4604-a9b3-d538fd170cc9",
   "metadata": {
    "execution": {
     "iopub.execute_input": "2025-10-23T03:11:52.496846Z",
     "iopub.status.busy": "2025-10-23T03:11:52.496435Z",
     "iopub.status.idle": "2025-10-23T03:11:52.505171Z",
     "shell.execute_reply": "2025-10-23T03:11:52.503990Z",
     "shell.execute_reply.started": "2025-10-23T03:11:52.496819Z"
    },
    "trusted": true
   },
   "outputs": [
    {
     "data": {
      "text/plain": [
       "(tensor([40., 45., 50., 55.]), torch.Size([4]))"
      ]
     },
     "execution_count": 45,
     "metadata": {},
     "output_type": "execute_result"
    }
   ],
   "source": [
    "A_sum_axis0 = A.sum(axis=0)\n",
    "A_sum_axis0, A_sum_axis0.shape"
   ]
  },
  {
   "cell_type": "code",
   "execution_count": 46,
   "id": "884ee1dc-f852-4790-8253-10bcd97eb4af",
   "metadata": {
    "execution": {
     "iopub.execute_input": "2025-10-23T03:12:12.057736Z",
     "iopub.status.busy": "2025-10-23T03:12:12.056428Z",
     "iopub.status.idle": "2025-10-23T03:12:12.065336Z",
     "shell.execute_reply": "2025-10-23T03:12:12.064133Z",
     "shell.execute_reply.started": "2025-10-23T03:12:12.057668Z"
    },
    "trusted": true
   },
   "outputs": [
    {
     "data": {
      "text/plain": [
       "(tensor([ 6., 22., 38., 54., 70.]), torch.Size([5]))"
      ]
     },
     "execution_count": 46,
     "metadata": {},
     "output_type": "execute_result"
    }
   ],
   "source": [
    "A_sum_axis1 = A.sum(axis=1)\n",
    "A_sum_axis1, A_sum_axis1.shape"
   ]
  },
  {
   "cell_type": "markdown",
   "id": "c39a026b-7b5b-470e-a46d-ed7f092b6d3a",
   "metadata": {},
   "source": [
    "沿着行和列对矩阵求和，等价于对矩阵的所有元素进行求和"
   ]
  },
  {
   "cell_type": "code",
   "execution_count": 48,
   "id": "935c059a-f5a5-4211-85df-df2a68d70327",
   "metadata": {
    "execution": {
     "iopub.execute_input": "2025-10-23T03:13:07.227540Z",
     "iopub.status.busy": "2025-10-23T03:13:07.227156Z",
     "iopub.status.idle": "2025-10-23T03:13:07.236556Z",
     "shell.execute_reply": "2025-10-23T03:13:07.235395Z",
     "shell.execute_reply.started": "2025-10-23T03:13:07.227514Z"
    },
    "trusted": true
   },
   "outputs": [
    {
     "data": {
      "text/plain": [
       "(tensor(190.), tensor(190.))"
      ]
     },
     "execution_count": 48,
     "metadata": {},
     "output_type": "execute_result"
    }
   ],
   "source": [
    "A.sum(axis=[0, 1]), A.sum()"
   ]
  },
  {
   "cell_type": "code",
   "execution_count": 51,
   "id": "d528306e-50bc-4861-9e0e-37068f5d67ea",
   "metadata": {
    "execution": {
     "iopub.execute_input": "2025-10-23T03:13:47.751940Z",
     "iopub.status.busy": "2025-10-23T03:13:47.751521Z",
     "iopub.status.idle": "2025-10-23T03:13:47.759726Z",
     "shell.execute_reply": "2025-10-23T03:13:47.758759Z",
     "shell.execute_reply.started": "2025-10-23T03:13:47.751914Z"
    },
    "trusted": true
   },
   "outputs": [
    {
     "data": {
      "text/plain": [
       "(tensor(9.5000), tensor(9.5000))"
      ]
     },
     "execution_count": 51,
     "metadata": {},
     "output_type": "execute_result"
    }
   ],
   "source": [
    "A.mean(), A.sum() / A.numel()"
   ]
  },
  {
   "cell_type": "markdown",
   "id": "3655e833-488e-4cf7-b43e-3fe42fd79f09",
   "metadata": {},
   "source": [
    "计算平均值的函数也可以沿指定轴降低张量的维度"
   ]
  },
  {
   "cell_type": "code",
   "execution_count": 58,
   "id": "a7f89b2e-2f3f-4cb3-b500-49d06656ffb9",
   "metadata": {
    "execution": {
     "iopub.execute_input": "2025-10-23T03:21:01.256261Z",
     "iopub.status.busy": "2025-10-23T03:21:01.255923Z",
     "iopub.status.idle": "2025-10-23T03:21:01.265660Z",
     "shell.execute_reply": "2025-10-23T03:21:01.264600Z",
     "shell.execute_reply.started": "2025-10-23T03:21:01.256236Z"
    },
    "trusted": true
   },
   "outputs": [
    {
     "data": {
      "text/plain": [
       "(tensor([ 8.,  9., 10., 11.]), tensor([ 8.,  9., 10., 11.]))"
      ]
     },
     "execution_count": 58,
     "metadata": {},
     "output_type": "execute_result"
    }
   ],
   "source": [
    "A.mean(axis=0), A.sum(axis=0) / A.shape[0]"
   ]
  },
  {
   "cell_type": "code",
   "execution_count": 59,
   "id": "d2bd93ad-5f04-46fb-aec9-50f997fcf1d1",
   "metadata": {
    "execution": {
     "iopub.execute_input": "2025-10-23T03:21:05.118716Z",
     "iopub.status.busy": "2025-10-23T03:21:05.118363Z",
     "iopub.status.idle": "2025-10-23T03:21:05.127820Z",
     "shell.execute_reply": "2025-10-23T03:21:05.126449Z",
     "shell.execute_reply.started": "2025-10-23T03:21:05.118672Z"
    },
    "trusted": true
   },
   "outputs": [
    {
     "data": {
      "text/plain": [
       "(tensor([ 1.5000,  5.5000,  9.5000, 13.5000, 17.5000]),\n",
       " tensor([ 1.5000,  5.5000,  9.5000, 13.5000, 17.5000]))"
      ]
     },
     "execution_count": 59,
     "metadata": {},
     "output_type": "execute_result"
    }
   ],
   "source": [
    "A.mean(axis=1), A.sum(axis=1) / A.shape[1]"
   ]
  },
  {
   "cell_type": "code",
   "execution_count": 60,
   "id": "456b69dc-a1bf-4e7e-b6e8-0d8bbdc40e32",
   "metadata": {
    "execution": {
     "iopub.execute_input": "2025-10-23T03:22:53.823078Z",
     "iopub.status.busy": "2025-10-23T03:22:53.822130Z",
     "iopub.status.idle": "2025-10-23T03:22:53.831958Z",
     "shell.execute_reply": "2025-10-23T03:22:53.830770Z",
     "shell.execute_reply.started": "2025-10-23T03:22:53.823030Z"
    },
    "trusted": true
   },
   "outputs": [
    {
     "data": {
      "text/plain": [
       "tensor([[ 6.],\n",
       "        [22.],\n",
       "        [38.],\n",
       "        [54.],\n",
       "        [70.]])"
      ]
     },
     "execution_count": 60,
     "metadata": {},
     "output_type": "execute_result"
    }
   ],
   "source": [
    "sum_A = A.sum(axis=1, keepdims=True)\n",
    "sum_A"
   ]
  },
  {
   "cell_type": "code",
   "execution_count": 61,
   "id": "8235e81b-7d59-4f65-84d7-b48e9ba09288",
   "metadata": {
    "execution": {
     "iopub.execute_input": "2025-10-23T03:23:00.791318Z",
     "iopub.status.busy": "2025-10-23T03:23:00.791007Z",
     "iopub.status.idle": "2025-10-23T03:23:00.800034Z",
     "shell.execute_reply": "2025-10-23T03:23:00.798864Z",
     "shell.execute_reply.started": "2025-10-23T03:23:00.791298Z"
    },
    "trusted": true
   },
   "outputs": [
    {
     "data": {
      "text/plain": [
       "tensor([[0.0000, 0.1667, 0.3333, 0.5000],\n",
       "        [0.1818, 0.2273, 0.2727, 0.3182],\n",
       "        [0.2105, 0.2368, 0.2632, 0.2895],\n",
       "        [0.2222, 0.2407, 0.2593, 0.2778],\n",
       "        [0.2286, 0.2429, 0.2571, 0.2714]])"
      ]
     },
     "execution_count": 61,
     "metadata": {},
     "output_type": "execute_result"
    }
   ],
   "source": [
    "A / sum_A"
   ]
  },
  {
   "cell_type": "markdown",
   "id": "e17f5598-228a-4f97-9c77-ef3fb85ca575",
   "metadata": {},
   "source": [
    "如果想沿某个轴计算A元素的累积总和，比如axis=0（按行计算），可以调用cumsum函数"
   ]
  },
  {
   "cell_type": "code",
   "execution_count": 62,
   "id": "d48360c0-f9f8-4a2e-a844-da34962594d9",
   "metadata": {
    "execution": {
     "iopub.execute_input": "2025-10-23T03:23:13.688359Z",
     "iopub.status.busy": "2025-10-23T03:23:13.687632Z",
     "iopub.status.idle": "2025-10-23T03:23:13.698795Z",
     "shell.execute_reply": "2025-10-23T03:23:13.697600Z",
     "shell.execute_reply.started": "2025-10-23T03:23:13.688331Z"
    },
    "trusted": true
   },
   "outputs": [
    {
     "data": {
      "text/plain": [
       "tensor([[ 0.,  1.,  2.,  3.],\n",
       "        [ 4.,  6.,  8., 10.],\n",
       "        [12., 15., 18., 21.],\n",
       "        [24., 28., 32., 36.],\n",
       "        [40., 45., 50., 55.]])"
      ]
     },
     "execution_count": 62,
     "metadata": {},
     "output_type": "execute_result"
    }
   ],
   "source": [
    "A.cumsum(axis=0)"
   ]
  },
  {
   "cell_type": "code",
   "execution_count": 63,
   "id": "ec8da432-82d9-423a-82d9-cd7360c01e01",
   "metadata": {
    "execution": {
     "iopub.execute_input": "2025-10-23T03:25:07.667395Z",
     "iopub.status.busy": "2025-10-23T03:25:07.666940Z",
     "iopub.status.idle": "2025-10-23T03:25:07.681451Z",
     "shell.execute_reply": "2025-10-23T03:25:07.680225Z",
     "shell.execute_reply.started": "2025-10-23T03:25:07.667367Z"
    },
    "trusted": true
   },
   "outputs": [
    {
     "data": {
      "text/plain": [
       "(tensor([0., 1., 2., 3.]), tensor([1., 1., 1., 1.]), tensor(6.))"
      ]
     },
     "execution_count": 63,
     "metadata": {},
     "output_type": "execute_result"
    }
   ],
   "source": [
    "y = torch.ones(4, dtype = torch.float32)\n",
    "x, y, torch.dot(x, y)"
   ]
  },
  {
   "cell_type": "code",
   "execution_count": 64,
   "id": "0157fa18-f115-4435-b2ac-f51c4792451d",
   "metadata": {
    "execution": {
     "iopub.execute_input": "2025-10-23T03:25:23.120833Z",
     "iopub.status.busy": "2025-10-23T03:25:23.120487Z",
     "iopub.status.idle": "2025-10-23T03:25:23.128749Z",
     "shell.execute_reply": "2025-10-23T03:25:23.127813Z",
     "shell.execute_reply.started": "2025-10-23T03:25:23.120809Z"
    },
    "trusted": true
   },
   "outputs": [
    {
     "data": {
      "text/plain": [
       "tensor(6.)"
      ]
     },
     "execution_count": 64,
     "metadata": {},
     "output_type": "execute_result"
    }
   ],
   "source": [
    "torch.sum(x * y)"
   ]
  },
  {
   "cell_type": "markdown",
   "id": "e4e9c6b5-2f7b-4427-8080-e88838af85ea",
   "metadata": {},
   "source": [
    "矩阵-向量积"
   ]
  },
  {
   "cell_type": "code",
   "execution_count": 65,
   "id": "a526d1bb-b11c-4241-8882-24de589a9b05",
   "metadata": {
    "execution": {
     "iopub.execute_input": "2025-10-23T03:29:21.713804Z",
     "iopub.status.busy": "2025-10-23T03:29:21.713342Z",
     "iopub.status.idle": "2025-10-23T03:29:21.724885Z",
     "shell.execute_reply": "2025-10-23T03:29:21.723511Z",
     "shell.execute_reply.started": "2025-10-23T03:29:21.713772Z"
    },
    "trusted": true
   },
   "outputs": [
    {
     "data": {
      "text/plain": [
       "(torch.Size([5, 4]), torch.Size([4]), tensor([ 14.,  38.,  62.,  86., 110.]))"
      ]
     },
     "execution_count": 65,
     "metadata": {},
     "output_type": "execute_result"
    }
   ],
   "source": [
    "A.shape, x.shape, torch.mv(A, x)"
   ]
  },
  {
   "cell_type": "markdown",
   "id": "882d8b3c-b9ae-4300-a421-e4d73e2513e5",
   "metadata": {},
   "source": [
    "矩阵-矩阵乘法"
   ]
  },
  {
   "cell_type": "code",
   "execution_count": 68,
   "id": "15f36e5e-9c1e-49dd-b292-43e4d3266183",
   "metadata": {
    "execution": {
     "iopub.execute_input": "2025-10-23T03:30:45.068300Z",
     "iopub.status.busy": "2025-10-23T03:30:45.067593Z",
     "iopub.status.idle": "2025-10-23T03:30:45.076522Z",
     "shell.execute_reply": "2025-10-23T03:30:45.075640Z",
     "shell.execute_reply.started": "2025-10-23T03:30:45.068268Z"
    },
    "trusted": true
   },
   "outputs": [
    {
     "data": {
      "text/plain": [
       "tensor([[ 6.,  6.,  6.],\n",
       "        [22., 22., 22.],\n",
       "        [38., 38., 38.],\n",
       "        [54., 54., 54.],\n",
       "        [70., 70., 70.]])"
      ]
     },
     "execution_count": 68,
     "metadata": {},
     "output_type": "execute_result"
    }
   ],
   "source": [
    "B = torch.ones(4, 3)\n",
    "torch.mm(A, B)"
   ]
  },
  {
   "cell_type": "markdown",
   "id": "d2462627-e70f-472b-a7af-306349c89eea",
   "metadata": {},
   "source": [
    "## 练习"
   ]
  },
  {
   "cell_type": "code",
   "execution_count": 77,
   "id": "548d3479-3d1d-4a6e-8b33-de8a3d582bd5",
   "metadata": {
    "execution": {
     "iopub.execute_input": "2025-10-23T03:40:35.921889Z",
     "iopub.status.busy": "2025-10-23T03:40:35.921426Z",
     "iopub.status.idle": "2025-10-23T03:40:35.931552Z",
     "shell.execute_reply": "2025-10-23T03:40:35.930526Z",
     "shell.execute_reply.started": "2025-10-23T03:40:35.921854Z"
    },
    "trusted": true
   },
   "outputs": [
    {
     "data": {
      "text/plain": [
       "tensor([[[ 0,  1,  2,  3],\n",
       "         [ 4,  5,  6,  7],\n",
       "         [ 8,  9, 10, 11]],\n",
       "\n",
       "        [[12, 13, 14, 15],\n",
       "         [16, 17, 18, 19],\n",
       "         [20, 21, 22, 23]]])"
      ]
     },
     "execution_count": 77,
     "metadata": {},
     "output_type": "execute_result"
    }
   ],
   "source": [
    "X"
   ]
  },
  {
   "cell_type": "code",
   "execution_count": 84,
   "id": "f9ef26de-64a7-4037-9687-9dfa59c75ebd",
   "metadata": {
    "execution": {
     "iopub.execute_input": "2025-10-23T03:44:28.875231Z",
     "iopub.status.busy": "2025-10-23T03:44:28.874352Z",
     "iopub.status.idle": "2025-10-23T03:44:28.882488Z",
     "shell.execute_reply": "2025-10-23T03:44:28.881402Z",
     "shell.execute_reply.started": "2025-10-23T03:44:28.875194Z"
    },
    "trusted": true
   },
   "outputs": [
    {
     "data": {
      "text/plain": [
       "(torch.Size([2, 3, 4]), 2, 3, 4)"
      ]
     },
     "execution_count": 84,
     "metadata": {},
     "output_type": "execute_result"
    }
   ],
   "source": [
    "X.shape,len(X), len(X[0]), len(X[0][0])"
   ]
  },
  {
   "cell_type": "code",
   "execution_count": 85,
   "id": "6d85d541-3792-438b-9394-327d7ed5d969",
   "metadata": {
    "execution": {
     "iopub.execute_input": "2025-10-23T03:45:14.545619Z",
     "iopub.status.busy": "2025-10-23T03:45:14.545080Z",
     "iopub.status.idle": "2025-10-23T03:45:14.553871Z",
     "shell.execute_reply": "2025-10-23T03:45:14.552592Z",
     "shell.execute_reply.started": "2025-10-23T03:45:14.545593Z"
    },
    "trusted": true
   },
   "outputs": [
    {
     "data": {
      "text/plain": [
       "tensor([[ 0.,  1.,  2.,  3.],\n",
       "        [ 4.,  5.,  6.,  7.],\n",
       "        [ 8.,  9., 10., 11.],\n",
       "        [12., 13., 14., 15.],\n",
       "        [16., 17., 18., 19.]])"
      ]
     },
     "execution_count": 85,
     "metadata": {},
     "output_type": "execute_result"
    }
   ],
   "source": [
    "A"
   ]
  },
  {
   "cell_type": "code",
   "execution_count": 87,
   "id": "95d91fe2-aa71-481e-972a-b283b74de2a4",
   "metadata": {
    "execution": {
     "iopub.execute_input": "2025-10-23T03:47:08.208847Z",
     "iopub.status.busy": "2025-10-23T03:47:08.208007Z",
     "iopub.status.idle": "2025-10-23T03:47:08.217555Z",
     "shell.execute_reply": "2025-10-23T03:47:08.216332Z",
     "shell.execute_reply.started": "2025-10-23T03:47:08.208814Z"
    },
    "trusted": true
   },
   "outputs": [
    {
     "data": {
      "text/plain": [
       "(tensor([[12, 14, 16, 18],\n",
       "         [20, 22, 24, 26],\n",
       "         [28, 30, 32, 34]]),\n",
       " tensor([[12, 15, 18, 21],\n",
       "         [48, 51, 54, 57]]),\n",
       " tensor([[ 6, 22, 38],\n",
       "         [54, 70, 86]]))"
      ]
     },
     "execution_count": 87,
     "metadata": {},
     "output_type": "execute_result"
    }
   ],
   "source": [
    "X.sum(axis=0), X.sum(axis=1), X.sum(axis=2)"
   ]
  },
  {
   "cell_type": "markdown",
   "id": "2154fc67-17d5-4380-80ed-a975f374dd35",
   "metadata": {},
   "source": [
    "# 2.4 微积分"
   ]
  },
  {
   "cell_type": "code",
   "execution_count": null,
   "id": "309f7398-6201-4b7e-9012-2e636a25ce45",
   "metadata": {
    "trusted": true
   },
   "outputs": [],
   "source": []
  }
 ],
 "metadata": {
  "kaggle": {
   "accelerator": "none",
   "dataSources": [],
   "dockerImageVersionId": 31154,
   "isGpuEnabled": false,
   "isInternetEnabled": true,
   "language": "python",
   "sourceType": "notebook"
  },
  "kernelspec": {
   "display_name": "d2l",
   "language": "python",
   "name": "python3"
  },
  "language_info": {
   "codemirror_mode": {
    "name": "ipython",
    "version": 3
   },
   "file_extension": ".py",
   "mimetype": "text/x-python",
   "name": "python",
   "nbconvert_exporter": "python",
   "pygments_lexer": "ipython3",
   "version": "3.9.23"
  }
 },
 "nbformat": 4,
 "nbformat_minor": 5
}
