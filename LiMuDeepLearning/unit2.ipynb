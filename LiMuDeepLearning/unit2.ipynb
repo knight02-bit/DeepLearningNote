{
 "cells": [
  {
   "cell_type": "markdown",
   "id": "6f0b5991",
   "metadata": {},
   "source": [
    "# 2.1 数据操作"
   ]
  },
  {
   "cell_type": "code",
   "id": "54c8ff2f",
   "metadata": {
    "ExecuteTime": {
     "end_time": "2025-10-16T07:57:53.037746Z",
     "start_time": "2025-10-16T07:57:48.114442Z"
    }
   },
   "source": [
    "import torch"
   ],
   "outputs": [],
   "execution_count": 1
  },
  {
   "cell_type": "code",
   "id": "ecc1f64c",
   "metadata": {
    "ExecuteTime": {
     "end_time": "2025-10-16T07:57:53.071747Z",
     "start_time": "2025-10-16T07:57:53.063749Z"
    }
   },
   "source": [
    "x = torch.arange(12)\n",
    "print(x)"
   ],
   "outputs": [
    {
     "name": "stdout",
     "output_type": "stream",
     "text": [
      "tensor([ 0,  1,  2,  3,  4,  5,  6,  7,  8,  9, 10, 11])\n"
     ]
    }
   ],
   "execution_count": 2
  },
  {
   "cell_type": "code",
   "id": "c36a3962",
   "metadata": {
    "ExecuteTime": {
     "end_time": "2025-10-16T07:57:53.124866Z",
     "start_time": "2025-10-16T07:57:53.112569Z"
    }
   },
   "source": [
    "x.shape"
   ],
   "outputs": [
    {
     "data": {
      "text/plain": [
       "torch.Size([12])"
      ]
     },
     "execution_count": 3,
     "metadata": {},
     "output_type": "execute_result"
    }
   ],
   "execution_count": 3
  },
  {
   "cell_type": "code",
   "id": "ca2144b8",
   "metadata": {
    "ExecuteTime": {
     "end_time": "2025-10-16T07:57:53.179187Z",
     "start_time": "2025-10-16T07:57:53.174860Z"
    }
   },
   "source": [
    "x.numel()"
   ],
   "outputs": [
    {
     "data": {
      "text/plain": [
       "12"
      ]
     },
     "execution_count": 4,
     "metadata": {},
     "output_type": "execute_result"
    }
   ],
   "execution_count": 4
  },
  {
   "cell_type": "code",
   "id": "aa9732e3",
   "metadata": {
    "ExecuteTime": {
     "end_time": "2025-10-16T07:57:53.223137Z",
     "start_time": "2025-10-16T07:57:53.218183Z"
    }
   },
   "source": [
    "X = x.reshape(3, 4)\n",
    "X"
   ],
   "outputs": [
    {
     "data": {
      "text/plain": [
       "tensor([[ 0,  1,  2,  3],\n",
       "        [ 4,  5,  6,  7],\n",
       "        [ 8,  9, 10, 11]])"
      ]
     },
     "execution_count": 5,
     "metadata": {},
     "output_type": "execute_result"
    }
   ],
   "execution_count": 5
  },
  {
   "cell_type": "code",
   "id": "b094a69e",
   "metadata": {
    "ExecuteTime": {
     "end_time": "2025-10-16T07:57:53.263716Z",
     "start_time": "2025-10-16T07:57:53.258132Z"
    }
   },
   "source": [
    "torch.zeros((2, 3, 4))"
   ],
   "outputs": [
    {
     "data": {
      "text/plain": [
       "tensor([[[0., 0., 0., 0.],\n",
       "         [0., 0., 0., 0.],\n",
       "         [0., 0., 0., 0.]],\n",
       "\n",
       "        [[0., 0., 0., 0.],\n",
       "         [0., 0., 0., 0.],\n",
       "         [0., 0., 0., 0.]]])"
      ]
     },
     "execution_count": 6,
     "metadata": {},
     "output_type": "execute_result"
    }
   ],
   "execution_count": 6
  },
  {
   "cell_type": "code",
   "id": "4279fcda",
   "metadata": {
    "ExecuteTime": {
     "end_time": "2025-10-16T07:57:53.308293Z",
     "start_time": "2025-10-16T07:57:53.302711Z"
    }
   },
   "source": [
    "torch.ones((2, 3, 4))"
   ],
   "outputs": [
    {
     "data": {
      "text/plain": [
       "tensor([[[1., 1., 1., 1.],\n",
       "         [1., 1., 1., 1.],\n",
       "         [1., 1., 1., 1.]],\n",
       "\n",
       "        [[1., 1., 1., 1.],\n",
       "         [1., 1., 1., 1.],\n",
       "         [1., 1., 1., 1.]]])"
      ]
     },
     "execution_count": 7,
     "metadata": {},
     "output_type": "execute_result"
    }
   ],
   "execution_count": 7
  },
  {
   "cell_type": "code",
   "id": "d8839e71",
   "metadata": {
    "ExecuteTime": {
     "end_time": "2025-10-16T07:57:53.352817Z",
     "start_time": "2025-10-16T07:57:53.346294Z"
    }
   },
   "source": [
    "# 每个元素都从均值为0、标准差为1的标准高斯分布（正态分布）中随机采样\n",
    "torch.randn(3, 4)"
   ],
   "outputs": [
    {
     "data": {
      "text/plain": [
       "tensor([[-0.3813, -0.1530,  0.4823, -0.2500],\n",
       "        [ 1.8354, -0.1061,  0.4659,  0.0059],\n",
       "        [ 1.1182,  1.1352, -0.9902, -0.0781]])"
      ]
     },
     "execution_count": 8,
     "metadata": {},
     "output_type": "execute_result"
    }
   ],
   "execution_count": 8
  },
  {
   "cell_type": "code",
   "id": "68ca4200",
   "metadata": {
    "ExecuteTime": {
     "end_time": "2025-10-16T07:57:53.404817Z",
     "start_time": "2025-10-16T07:57:53.397452Z"
    }
   },
   "source": [
    "torch.tensor([[2, 1, 4, 3], [1, 2, 3, 4], [4, 3, 2, 1]])"
   ],
   "outputs": [
    {
     "data": {
      "text/plain": [
       "tensor([[2, 1, 4, 3],\n",
       "        [1, 2, 3, 4],\n",
       "        [4, 3, 2, 1]])"
      ]
     },
     "execution_count": 9,
     "metadata": {},
     "output_type": "execute_result"
    }
   ],
   "execution_count": 9
  },
  {
   "cell_type": "code",
   "id": "48b1dfef",
   "metadata": {
    "ExecuteTime": {
     "end_time": "2025-10-16T07:57:53.470006Z",
     "start_time": "2025-10-16T07:57:53.460834Z"
    }
   },
   "source": [
    "x = torch.tensor([1.0, 2, 4, 8])\n",
    "y = torch.tensor([2, 2, 2, 2])\n",
    "x + y, x - y, x * y, x / y, x ** y"
   ],
   "outputs": [
    {
     "data": {
      "text/plain": [
       "(tensor([ 3.,  4.,  6., 10.]),\n",
       " tensor([-1.,  0.,  2.,  6.]),\n",
       " tensor([ 2.,  4.,  8., 16.]),\n",
       " tensor([0.5000, 1.0000, 2.0000, 4.0000]),\n",
       " tensor([ 1.,  4., 16., 64.]))"
      ]
     },
     "execution_count": 10,
     "metadata": {},
     "output_type": "execute_result"
    }
   ],
   "execution_count": 10
  },
  {
   "cell_type": "code",
   "id": "aa775a14",
   "metadata": {
    "ExecuteTime": {
     "end_time": "2025-10-16T07:57:53.527055Z",
     "start_time": "2025-10-16T07:57:53.519995Z"
    }
   },
   "source": [
    "torch.exp(x), torch.sqrt(x), torch.sin(x)"
   ],
   "outputs": [
    {
     "data": {
      "text/plain": [
       "(tensor([2.7183e+00, 7.3891e+00, 5.4598e+01, 2.9810e+03]),\n",
       " tensor([1.0000, 1.4142, 2.0000, 2.8284]),\n",
       " tensor([ 0.8415,  0.9093, -0.7568,  0.9894]))"
      ]
     },
     "execution_count": 11,
     "metadata": {},
     "output_type": "execute_result"
    }
   ],
   "execution_count": 11
  },
  {
   "cell_type": "code",
   "id": "304d5fa0",
   "metadata": {
    "ExecuteTime": {
     "end_time": "2025-10-16T07:57:53.565385Z",
     "start_time": "2025-10-16T07:57:53.557053Z"
    }
   },
   "source": [
    "X = torch.arange(12, dtype=torch.float32).reshape((3,4))\n",
    "Y = torch.tensor([[2.0, 1, 4, 3], [1, 2, 3, 4], [4, 3, 2, 1]])\n",
    "torch.cat((X, Y), dim=0), torch.cat((X, Y), dim=1)"
   ],
   "outputs": [
    {
     "data": {
      "text/plain": [
       "(tensor([[ 0.,  1.,  2.,  3.],\n",
       "         [ 4.,  5.,  6.,  7.],\n",
       "         [ 8.,  9., 10., 11.],\n",
       "         [ 2.,  1.,  4.,  3.],\n",
       "         [ 1.,  2.,  3.,  4.],\n",
       "         [ 4.,  3.,  2.,  1.]]),\n",
       " tensor([[ 0.,  1.,  2.,  3.,  2.,  1.,  4.,  3.],\n",
       "         [ 4.,  5.,  6.,  7.,  1.,  2.,  3.,  4.],\n",
       "         [ 8.,  9., 10., 11.,  4.,  3.,  2.,  1.]]))"
      ]
     },
     "execution_count": 12,
     "metadata": {},
     "output_type": "execute_result"
    }
   ],
   "execution_count": 12
  },
  {
   "cell_type": "code",
   "id": "c83eaea0",
   "metadata": {
    "ExecuteTime": {
     "end_time": "2025-10-16T07:57:53.604214Z",
     "start_time": "2025-10-16T07:57:53.599772Z"
    }
   },
   "source": [
    "X == Y"
   ],
   "outputs": [
    {
     "data": {
      "text/plain": [
       "tensor([[False,  True, False,  True],\n",
       "        [False, False, False, False],\n",
       "        [False, False, False, False]])"
      ]
     },
     "execution_count": 13,
     "metadata": {},
     "output_type": "execute_result"
    }
   ],
   "execution_count": 13
  },
  {
   "cell_type": "code",
   "id": "6a71efbd",
   "metadata": {
    "ExecuteTime": {
     "end_time": "2025-10-16T07:57:53.652806Z",
     "start_time": "2025-10-16T07:57:53.646212Z"
    }
   },
   "source": [
    "X.sum()"
   ],
   "outputs": [
    {
     "data": {
      "text/plain": [
       "tensor(66.)"
      ]
     },
     "execution_count": 14,
     "metadata": {},
     "output_type": "execute_result"
    }
   ],
   "execution_count": 14
  },
  {
   "cell_type": "code",
   "id": "c77e32b4",
   "metadata": {
    "ExecuteTime": {
     "end_time": "2025-10-16T07:57:53.696745Z",
     "start_time": "2025-10-16T07:57:53.690807Z"
    }
   },
   "source": [
    "a = torch.arange(3).reshape((3, 1))\n",
    "b = torch.arange(2).reshape((1, 2))\n",
    "a, b"
   ],
   "outputs": [
    {
     "data": {
      "text/plain": [
       "(tensor([[0],\n",
       "         [1],\n",
       "         [2]]),\n",
       " tensor([[0, 1]]))"
      ]
     },
     "execution_count": 15,
     "metadata": {},
     "output_type": "execute_result"
    }
   ],
   "execution_count": 15
  },
  {
   "cell_type": "code",
   "id": "ced7b51a",
   "metadata": {
    "ExecuteTime": {
     "end_time": "2025-10-16T07:57:53.738256Z",
     "start_time": "2025-10-16T07:57:53.731252Z"
    }
   },
   "source": [
    "a + b"
   ],
   "outputs": [
    {
     "data": {
      "text/plain": [
       "tensor([[0, 1],\n",
       "        [1, 2],\n",
       "        [2, 3]])"
      ]
     },
     "execution_count": 16,
     "metadata": {},
     "output_type": "execute_result"
    }
   ],
   "execution_count": 16
  },
  {
   "cell_type": "code",
   "id": "f7fa6220",
   "metadata": {
    "ExecuteTime": {
     "end_time": "2025-10-16T07:57:53.784641Z",
     "start_time": "2025-10-16T07:57:53.777255Z"
    }
   },
   "source": [
    "X[-1], X[1:3]"
   ],
   "outputs": [
    {
     "data": {
      "text/plain": [
       "(tensor([ 8.,  9., 10., 11.]),\n",
       " tensor([[ 4.,  5.,  6.,  7.],\n",
       "         [ 8.,  9., 10., 11.]]))"
      ]
     },
     "execution_count": 17,
     "metadata": {},
     "output_type": "execute_result"
    }
   ],
   "execution_count": 17
  },
  {
   "cell_type": "code",
   "id": "3c460969",
   "metadata": {
    "ExecuteTime": {
     "end_time": "2025-10-16T07:57:53.827211Z",
     "start_time": "2025-10-16T07:57:53.821164Z"
    }
   },
   "source": [
    "X[1, 2] = 9\n",
    "X"
   ],
   "outputs": [
    {
     "data": {
      "text/plain": [
       "tensor([[ 0.,  1.,  2.,  3.],\n",
       "        [ 4.,  5.,  9.,  7.],\n",
       "        [ 8.,  9., 10., 11.]])"
      ]
     },
     "execution_count": 18,
     "metadata": {},
     "output_type": "execute_result"
    }
   ],
   "execution_count": 18
  },
  {
   "cell_type": "code",
   "id": "3332b462",
   "metadata": {
    "ExecuteTime": {
     "end_time": "2025-10-16T07:57:53.867889Z",
     "start_time": "2025-10-16T07:57:53.861208Z"
    }
   },
   "source": [
    "X[0:2, :] = 12\n",
    "X"
   ],
   "outputs": [
    {
     "data": {
      "text/plain": [
       "tensor([[12., 12., 12., 12.],\n",
       "        [12., 12., 12., 12.],\n",
       "        [ 8.,  9., 10., 11.]])"
      ]
     },
     "execution_count": 19,
     "metadata": {},
     "output_type": "execute_result"
    }
   ],
   "execution_count": 19
  },
  {
   "cell_type": "code",
   "id": "0e99b298",
   "metadata": {
    "ExecuteTime": {
     "end_time": "2025-10-16T07:57:53.906191Z",
     "start_time": "2025-10-16T07:57:53.901887Z"
    }
   },
   "source": [
    "before = id(Y)\n",
    "before"
   ],
   "outputs": [
    {
     "data": {
      "text/plain": [
       "2355392619184"
      ]
     },
     "execution_count": 20,
     "metadata": {},
     "output_type": "execute_result"
    }
   ],
   "execution_count": 20
  },
  {
   "cell_type": "code",
   "id": "c34d30a2",
   "metadata": {
    "ExecuteTime": {
     "end_time": "2025-10-16T07:57:53.948363Z",
     "start_time": "2025-10-16T07:57:53.943187Z"
    }
   },
   "source": [
    "Y = Y + X\n",
    "id(Y)"
   ],
   "outputs": [
    {
     "data": {
      "text/plain": [
       "2355392626064"
      ]
     },
     "execution_count": 21,
     "metadata": {},
     "output_type": "execute_result"
    }
   ],
   "execution_count": 21
  },
  {
   "cell_type": "markdown",
   "id": "ea739cd0",
   "metadata": {},
   "source": [
    "这可能是不可取的，原因有两个：\n",
    "1. 首先，我们不想总是不必要地分配内存。\n",
    "2. 如果我们不原地更新，其他引用仍然会指向旧的内存位置，这样我们的某些代码可能会无意中引用旧的参数。"
   ]
  },
  {
   "cell_type": "code",
   "id": "37422c1b",
   "metadata": {
    "ExecuteTime": {
     "end_time": "2025-10-16T07:57:54.012357Z",
     "start_time": "2025-10-16T07:57:54.007357Z"
    }
   },
   "source": [
    "before = id(Y)\n",
    "Y += X\n",
    "before == id(Y)"
   ],
   "outputs": [
    {
     "data": {
      "text/plain": [
       "True"
      ]
     },
     "execution_count": 22,
     "metadata": {},
     "output_type": "execute_result"
    }
   ],
   "execution_count": 22
  },
  {
   "cell_type": "code",
   "id": "6c9a874f",
   "metadata": {
    "ExecuteTime": {
     "end_time": "2025-10-16T07:57:54.052358Z",
     "start_time": "2025-10-16T07:57:54.045356Z"
    }
   },
   "source": [
    "Z = torch.zeros_like(Y)\n",
    "print('id(Z):', id(Z))\n",
    "Z[:] = X + Y\n",
    "print('id(Z):', id(Z))"
   ],
   "outputs": [
    {
     "name": "stdout",
     "output_type": "stream",
     "text": [
      "id(Z): 2355392774624\n",
      "id(Z): 2355392774624\n"
     ]
    }
   ],
   "execution_count": 23
  },
  {
   "cell_type": "code",
   "id": "d2c7250e",
   "metadata": {
    "ExecuteTime": {
     "end_time": "2025-10-16T07:57:54.092356Z",
     "start_time": "2025-10-16T07:57:54.085359Z"
    }
   },
   "source": [
    "A = X.numpy()\n",
    "B = torch.tensor(A)\n",
    "type(A), type(B)"
   ],
   "outputs": [
    {
     "data": {
      "text/plain": [
       "(numpy.ndarray, torch.Tensor)"
      ]
     },
     "execution_count": 24,
     "metadata": {},
     "output_type": "execute_result"
    }
   ],
   "execution_count": 24
  },
  {
   "cell_type": "code",
   "id": "7dff5652",
   "metadata": {
    "ExecuteTime": {
     "end_time": "2025-10-16T07:57:54.128539Z",
     "start_time": "2025-10-16T07:57:54.123357Z"
    }
   },
   "source": [
    "a = torch.tensor([3.5])\n",
    "a, a.item(), float(a), int(a)  # item() 只能用于包含单个元素的张量"
   ],
   "outputs": [
    {
     "data": {
      "text/plain": [
       "(tensor([3.5000]), 3.5, 3.5, 3)"
      ]
     },
     "execution_count": 25,
     "metadata": {},
     "output_type": "execute_result"
    }
   ],
   "execution_count": 25
  },
  {
   "cell_type": "code",
   "id": "34893ec6",
   "metadata": {
    "ExecuteTime": {
     "end_time": "2025-10-16T07:57:54.164188Z",
     "start_time": "2025-10-16T07:57:54.158534Z"
    }
   },
   "source": [
    "X < Y"
   ],
   "outputs": [
    {
     "data": {
      "text/plain": [
       "tensor([[True, True, True, True],\n",
       "        [True, True, True, True],\n",
       "        [True, True, True, True]])"
      ]
     },
     "execution_count": 26,
     "metadata": {},
     "output_type": "execute_result"
    }
   ],
   "execution_count": 26
  },
  {
   "cell_type": "markdown",
   "id": "ab3faf34",
   "metadata": {},
   "source": [
    "# 2.2 数据预处理"
   ]
  },
  {
   "cell_type": "code",
   "id": "1d358d2d",
   "metadata": {
    "ExecuteTime": {
     "end_time": "2025-10-16T07:57:54.203270Z",
     "start_time": "2025-10-16T07:57:54.196487Z"
    }
   },
   "source": [
    "import os\n",
    "\n",
    "os.makedirs('data')\n",
    "data_file = os.path.join('data', 'house_tiny.csv')\n",
    "with open(data_file, 'w') as f:\n",
    "    f.write('NumRooms,Alley,Price\\n')  # 列名\n",
    "    f.write('NA,Pave,127500\\n')  # 每行表示一个数据样本\n",
    "    f.write('2,NA,106000\\n')\n",
    "    f.write('4,NA,178100\\n')\n",
    "    f.write('NA,NA,140000\\n')"
   ],
   "outputs": [],
   "execution_count": 27
  },
  {
   "cell_type": "code",
   "id": "dac51740",
   "metadata": {
    "ExecuteTime": {
     "end_time": "2025-10-16T07:57:55.145211Z",
     "start_time": "2025-10-16T07:57:54.233273Z"
    }
   },
   "source": [
    "import pandas as pd\n",
    "\n",
    "data = pd.read_csv(data_file)\n",
    "print(data)"
   ],
   "outputs": [
    {
     "name": "stdout",
     "output_type": "stream",
     "text": [
      "   NumRooms Alley   Price\n",
      "0       NaN  Pave  127500\n",
      "1       2.0   NaN  106000\n",
      "2       4.0   NaN  178100\n",
      "3       NaN   NaN  140000\n"
     ]
    }
   ],
   "execution_count": 28
  },
  {
   "cell_type": "markdown",
   "id": "90160b47",
   "metadata": {},
   "source": [
    "**插值法处理缺失值**"
   ]
  },
  {
   "cell_type": "code",
   "id": "2fd911cf",
   "metadata": {
    "ExecuteTime": {
     "end_time": "2025-10-16T07:57:55.168568Z",
     "start_time": "2025-10-16T07:57:55.157726Z"
    }
   },
   "source": [
    "inputs, outputs = data.iloc[:, 0:2], data.iloc[:, 2]\n",
    "inputs['NumRooms'] = inputs['NumRooms'].fillna(inputs['NumRooms'].mean())\n",
    "# inputs['Alley'] = inputs['Alley'].fillna(inputs['Alley'].mode()[0])\n",
    "print(inputs)"
   ],
   "outputs": [
    {
     "name": "stdout",
     "output_type": "stream",
     "text": [
      "   NumRooms Alley\n",
      "0       3.0  Pave\n",
      "1       2.0   NaN\n",
      "2       4.0   NaN\n",
      "3       3.0   NaN\n"
     ]
    }
   ],
   "execution_count": 29
  },
  {
   "cell_type": "markdown",
   "id": "4db1681b",
   "metadata": {},
   "source": [
    "`pd.get_dummies` 是 pandas 库中的一个函数，用于将分类变量转换为虚拟变量（也称为独热编码）。\n",
    "+ inputs 是一个 DataFrame，其中包含需要转换的分类变量。\n",
    "+ dummy_na=True 参数表示将缺失值（NaN）也作为一个独立的类别进行编码。如果不设置这个参数，缺失值会被忽略。"
   ]
  },
  {
   "cell_type": "code",
   "id": "d96677af",
   "metadata": {
    "ExecuteTime": {
     "end_time": "2025-10-16T07:57:55.226358Z",
     "start_time": "2025-10-16T07:57:55.212563Z"
    }
   },
   "source": [
    "inputs = pd.get_dummies(inputs, dummy_na=True)\n",
    "print(inputs)"
   ],
   "outputs": [
    {
     "name": "stdout",
     "output_type": "stream",
     "text": [
      "   NumRooms  Alley_Pave  Alley_nan\n",
      "0       3.0        True      False\n",
      "1       2.0       False       True\n",
      "2       4.0       False       True\n",
      "3       3.0       False       True\n"
     ]
    }
   ],
   "execution_count": 30
  },
  {
   "cell_type": "code",
   "id": "ecadf131",
   "metadata": {
    "ExecuteTime": {
     "end_time": "2025-10-16T07:57:55.279297Z",
     "start_time": "2025-10-16T07:57:55.263357Z"
    }
   },
   "source": [
    "import torch\n",
    "\n",
    "X = torch.tensor(inputs.to_numpy(dtype=float))\n",
    "y = torch.tensor(outputs.to_numpy(dtype=float))\n",
    "X, y"
   ],
   "outputs": [
    {
     "data": {
      "text/plain": [
       "(tensor([[3., 1., 0.],\n",
       "         [2., 0., 1.],\n",
       "         [4., 0., 1.],\n",
       "         [3., 0., 1.]], dtype=torch.float64),\n",
       " tensor([127500., 106000., 178100., 140000.], dtype=torch.float64))"
      ]
     },
     "execution_count": 31,
     "metadata": {},
     "output_type": "execute_result"
    }
   ],
   "execution_count": 31
  },
  {
   "cell_type": "markdown",
   "id": "e1e94847",
   "metadata": {},
   "source": [
    "## 练习\n",
    "创建包含更多行和列的原始数据集\n",
    "+ 删除缺失值最多的列\n",
    "+ 将预处理后的数据集转换为张量格式"
   ]
  },
  {
   "cell_type": "code",
   "id": "9f437bb8",
   "metadata": {
    "ExecuteTime": {
     "end_time": "2025-10-16T07:57:55.317733Z",
     "start_time": "2025-10-16T07:57:55.314284Z"
    }
   },
   "source": [],
   "outputs": [],
   "execution_count": null
  },
  {
   "cell_type": "markdown",
   "id": "1b40016b",
   "metadata": {},
   "source": [
    "# 2.3 线性代数"
   ]
  },
  {
   "cell_type": "markdown",
   "id": "4ac24f83",
   "metadata": {},
   "source": []
  }
 ],
 "metadata": {
  "kernelspec": {
   "display_name": "pytorchLearn",
   "language": "python",
   "name": "python3"
  },
  "language_info": {
   "codemirror_mode": {
    "name": "ipython",
    "version": 3
   },
   "file_extension": ".py",
   "mimetype": "text/x-python",
   "name": "python",
   "nbconvert_exporter": "python",
   "pygments_lexer": "ipython3",
   "version": "3.12.11"
  }
 },
 "nbformat": 4,
 "nbformat_minor": 5
}
