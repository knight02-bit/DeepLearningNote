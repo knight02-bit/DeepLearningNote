{
 "cells": [
  {
   "cell_type": "markdown",
   "id": "bf7cff09660c9048",
   "metadata": {},
   "source": [
    "## 📊 LangSmith功能\n",
    "\n",
    "使用 LangChain 构建的许多应用程序将包含多个步骤和多个 LLM 调用的调用。\n",
    "\n",
    "随着这些应用程序变得越来越复杂，能够检查链或代理内部到底发生了什么变得至关重要\n",
    "https://smith.langchain.com/\n",
    "\n",
    "1. **📈 性能监控**: 追踪每次 LLM 调用的延迟、token 使用量、成本等\n",
    "2. **🔍 调试工具**: 查看完整的输入输出链路，便于调试复杂的 LangChain 应用\n",
    "3. **📝 日志记录**: 自动记录所有 LLM 交互，包括 prompt、响应、元数据等\n",
    "4. **🏷️ 标签管理**: 通过项目、会话、标签等维度组织和筛选追踪数据\n",
    "5. **📊 数据分析**: 提供丰富的图表和统计信息，帮助优化应用性能\n",
    "\n",
    "| 环境变量 | 说明 | 示例值 |\n",
    "|---------|------|--------|\n",
    "| `LANGSMITH_TRACING` | 启用/禁用追踪 | `\"true\"` 或 `\"false\"` |\n",
    "| `LANGSMITH_API_KEY` | LangSmith API 密钥 | `\"lsv2_pt_...\"` |\n",
    "| `LANGSMITH_PROJECT` | 项目名称 | `\"LangChain-Chatbot-20241018\"` |\n",
    "| `LANGSMITH_SESSION` | 会话标识 | `\"chatbot-session-1\"` |\n",
    "| `LANGSMITH_TAGS` | 标签（逗号分隔） | `\"chatbot,demo,glm-4.6\"` |\n",
    "| `LANGSMITH_ENDPOINT` | API 端点 | `\"https://api.smith.langchain.com\"` |"
   ]
  },
  {
   "cell_type": "code",
   "execution_count": 1,
   "id": "21d3165b6b8b9ba5",
   "metadata": {
    "ExecuteTime": {
     "end_time": "2025-10-18T03:00:41.590521Z",
     "start_time": "2025-10-18T03:00:41.582522Z"
    }
   },
   "outputs": [
    {
     "name": "stdout",
     "output_type": "stream",
     "text": [
      "📊 LangSmith 追踪已启用\n",
      "🏷️ 项目名称: LangChain-Chatbot-202510181726\n"
     ]
    }
   ],
   "source": [
    "import os\n",
    "from datetime import datetime\n",
    "from langchain_openai import ChatOpenAI\n",
    "\n",
    "# 🔧 LangSmith 配置 - 用于追踪和监控 LLM 调用\n",
    "os.environ[\"LANGSMITH_TRACING\"] = \"true\"  # 启用追踪\n",
    "\n",
    "# LANGSMITH_API_KEY 已配置\n",
    "# os.environ[\"LANGSMITH_API_KEY\"] = \"@@@\"\n",
    "\n",
    "os.environ[\"LANGSMITH_PROJECT\"] = f\"LangChain-Chatbot-{datetime.now().strftime('%Y%m%d%H%M')}\"\n",
    "os.environ[\"LANGSMITH_ENDPOINT\"] = \"https://api.smith.langchain.com\"\n",
    "\n",
    "print(f\"📊 LangSmith 追踪已启用\")\n",
    "print(f\"🏷️ 项目名称: {os.environ['LANGSMITH_PROJECT']}\")\n",
    "\n",
    "# 初始化 LLM 模型\n",
    "# 这里用的智谱的API Key\n",
    "llm_model = ChatOpenAI(\n",
    "    model=\"glm-4.6\",\n",
    "    temperature=0.7,\n",
    "    openai_api_key=os.getenv(\"ZAI_API_KEY\"), \n",
    "    openai_api_base=\"https://open.bigmodel.cn/api/paas/v4/\",\n",
    "    max_tokens=2000,  # 最大输出 token 数\n",
    ")"
   ]
  },
  {
   "cell_type": "markdown",
   "id": "d828797d48d3c24e",
   "metadata": {},
   "source": [
    "## 🔍 对比`langchain_core.messages`和`langchain.schema`的HumanMessage\n",
    "\n",
    "| 比较项   | `langchain_core.messages.HumanMessage`             | `langchain.schema.HumanMessage`             |\n",
    "| -------- | -------------------------------------------------- | ------------------------------------------- |\n",
    "| 所属模块 | `langchain-core`（独立核心库）                     | `langchain` 主包的旧版 schema               |\n",
    "| 设计目的 | 新版消息协议（和 OpenAI API 对齐）                 | 旧版消息格式定义                            |\n",
    "| 版本支持 | ✅ LangChain ≥ 0.1（推荐）                          | ⚠️ 旧版兼容层，未来可能移除                  |\n",
    "| 底层类型 | `BaseMessage`（新定义）                            | `BaseMessage`（旧定义）                     |\n",
    "| 使用场景 | ReAct Agent、LCEL、Runnable、Tool 等新版接口       | 旧式 Chain（如 `ConversationChain`）        |\n",
    "| 导入示例 | `from langchain_core.messages import HumanMessage` | `from langchain.schema import HumanMessage` |"
   ]
  },
  {
   "cell_type": "code",
   "execution_count": 2,
   "id": "d72bd62b00698c41",
   "metadata": {
    "ExecuteTime": {
     "end_time": "2025-10-18T03:01:59.933526Z",
     "start_time": "2025-10-18T03:00:41.623523Z"
    }
   },
   "outputs": [
    {
     "data": {
      "text/plain": [
       "AIMessage(content='\\nHail and well met!\\n\\nYou have summoned a Knight. I am at your service.\\n\\nMy virtual armor is polished, and I am ready for any quest you have in mind. How may I assist you today?\\n\\nPerhaps you wish to:\\n*   **Learn** about the history of medieval knights and their code of chivalry.\\n*   **Hear a tale** of a famous knight from legend or fiction.\\n*   **Discuss** the strategy of the knight piece in chess.\\n*   Or simply have a **loyal companion** to chat with.\\n\\nJust state your command, and I shall endeavor to help.', additional_kwargs={'refusal': None}, response_metadata={'token_usage': {'completion_tokens': 1531, 'prompt_tokens': 10, 'total_tokens': 1541, 'completion_tokens_details': None, 'prompt_tokens_details': {'audio_tokens': None, 'cached_tokens': 0}}, 'model_name': 'glm-4.6', 'system_fingerprint': None, 'id': '20251018172612e8f853261b3a4c92', 'service_tier': None, 'finish_reason': 'stop', 'logprobs': None}, id='run--f837b363-c96f-4182-bdcf-1d6013e20e3d-0', usage_metadata={'input_tokens': 10, 'output_tokens': 1531, 'total_tokens': 1541, 'input_token_details': {'cache_read': 0}, 'output_token_details': {}})"
      ]
     },
     "execution_count": 2,
     "metadata": {},
     "output_type": "execute_result"
    }
   ],
   "source": [
    "# from langchain.schema import HumanMessage\n",
    "from langchain_core.messages import HumanMessage\n",
    "\n",
    "llm_model.invoke([\n",
    "    HumanMessage(content=\"Hi! Knight\"),\n",
    "])"
   ]
  },
  {
   "cell_type": "markdown",
   "id": "chatbot_intro",
   "metadata": {},
   "source": [
    "## 🤖 带有 LangSmith 追踪的聊天机器人实现\n",
    "\n",
    "下面我们将实现一个完整的聊天机器人，并展示如何使用 LangSmith 追踪其运行情况。"
   ]
  },
  {
   "cell_type": "code",
   "execution_count": 3,
   "id": "chatbot_implementation",
   "metadata": {},
   "outputs": [
    {
     "name": "stdout",
     "output_type": "stream",
     "text": [
      "🤖 聊天机器人已初始化完成！\n",
      "📊 所有对话都将被 LangSmith 自动追踪\n"
     ]
    }
   ],
   "source": [
    "from langchain_core.messages import HumanMessage, AIMessage, SystemMessage\n",
    "from langchain_core.prompts import ChatPromptTemplate, MessagesPlaceholder\n",
    "from langchain_core.chat_history import BaseChatMessageHistory, InMemoryChatMessageHistory\n",
    "from langchain_core.runnables.history import RunnableWithMessageHistory\n",
    "import uuid\n",
    "from typing import Dict\n",
    "\n",
    "# 📝 创建聊天提示模板\n",
    "prompt = ChatPromptTemplate.from_messages([\n",
    "    SystemMessage(content=\"\"\"\n",
    "你是一个友好、专业的 AI 助手。请遵循以下原则：\n",
    "1. 用简洁、清晰的语言回答问题\n",
    "2. 如果不确定答案，请诚实地说明\n",
    "3. 保持对话的连贯性和上下文理解\n",
    "4. 适当使用 emoji 让对话更生动\n",
    "\"\"\"),\n",
    "    MessagesPlaceholder(variable_name=\"chat_history\"),\n",
    "    (\"human\", \"{input}\")\n",
    "])\n",
    "\n",
    "# 存储不同会话的聊天历史\n",
    "store: Dict[str, BaseChatMessageHistory] = {}\n",
    "\n",
    "def get_session_history(session_id: str) -> BaseChatMessageHistory:\n",
    "    \"\"\"获取或创建会话历史\"\"\"\n",
    "    if session_id not in store:\n",
    "        store[session_id] = InMemoryChatMessageHistory()\n",
    "    return store[session_id]\n",
    "\n",
    "# 创建带有历史记录的聊天链\n",
    "chain = prompt | llm_model\n",
    "\n",
    "# 包装链以支持消息历史\n",
    "chatbot = RunnableWithMessageHistory(\n",
    "    chain,\n",
    "    get_session_history,\n",
    "    input_messages_key=\"input\",\n",
    "    history_messages_key=\"chat_history\",\n",
    ")\n",
    "\n",
    "print(\"🤖 聊天机器人已初始化完成！\")\n",
    "print(\"📊 所有对话都将被 LangSmith 自动追踪\")"
   ]
  },
  {
   "cell_type": "markdown",
   "id": "b1a028c6",
   "metadata": {},
   "source": [
    "### 🎯 测试聊天机器人 - 单轮对话"
   ]
  },
  {
   "cell_type": "code",
   "execution_count": 4,
   "id": "test_single_conversation",
   "metadata": {},
   "outputs": [
    {
     "name": "stdout",
     "output_type": "stream",
     "text": [
      "🆔 会话 ID: 33899279-6380-4abe-a99f-64eca36ab681\n",
      "👤 用户: 你好！我想了解一下 LangChain 的基本概念。\n",
      "🤖 助手: \n",
      "你好！很高兴为你介绍 LangChain 的基本概念。👋\n",
      "\n",
      "简单来说，**LangChain 是一个强大的框架，专门用来构建基于大型语言模型（LLM）的应用程序。**\n",
      "\n",
      "你可以把它想象成一个“瑞士军刀” 🛠️，它提供了各种工具，让你能轻松地将 LLM（如 GPT-4）与其他数据源或功能连接起来，从而实现更复杂、更强大的任务。\n",
      "\n",
      "下面是 LangChain 的几个核心概念，我会用最简单的方式为你解...\n",
      "\n",
      "==================================================\n",
      "\n"
     ]
    }
   ],
   "source": [
    "session_id = str(uuid.uuid4())  # 生成唯一会话 ID\n",
    "print(f\"🆔 会话 ID: {session_id}\")\n",
    "\n",
    "# 第一轮对话\n",
    "response1 = chatbot.invoke(\n",
    "    {\"input\": \"你好！我想了解一下 LangChain 的基本概念。\"},\n",
    "    config={\"configurable\": {\"session_id\": session_id}}\n",
    ")\n",
    "\n",
    "print(\"👤 用户:\", \"你好！我想了解一下 LangChain 的基本概念。\")\n",
    "print(\"🤖 助手:\", response1.content[:200] + \"...\" if len(response1.content) > 200 else response1.content)\n",
    "print(\"\\n\" + \"=\"*50 + \"\\n\")"
   ]
  },
  {
   "cell_type": "markdown",
   "id": "12a0291f",
   "metadata": {},
   "source": [
    "### 🔄 测试聊天机器人 - 多轮对话（带上下文）"
   ]
  },
  {
   "cell_type": "code",
   "execution_count": 5,
   "id": "test_multi_conversation",
   "metadata": {},
   "outputs": [
    {
     "name": "stdout",
     "output_type": "stream",
     "text": [
      "👤 用户: 能详细解释一下 Chain 的概念吗？\n",
      "🤖 助手: \n",
      "当然可以！我们来深入聊聊 **Chain (链)** 这个核心概念。🧐\n",
      "\n",
      "如果说 LangChain 是一个“瑞士军刀”，那么 **Chain 就是使用这些工具的“标准操作流程”**。\n",
      "\n",
      "---\n",
      "\n",
      "### 1. Chain 的核心思想：串联与组合\n",
      "\n",
      "想象一下工厂里的流水线 🏭：\n",
      "*   原材料（比如用户的输入）进入流水线。\n",
      "*   经过第一个工位（比如 **提示模板**），被塑造成特定的格式。\n",
      "...\n",
      "\n",
      "==================================================\n",
      "\n",
      "👤 用户: 给我一个简单的代码示例吧\n",
      "🤖 助手: \n",
      "没问题！我们来写一个最简单、最经典的“Hello World”级别的例子：**一个简单的翻译链**。👍\n",
      "\n",
      "这个例子会把你输入的任何中文句子，翻译成英文。\n",
      "\n",
      "---\n",
      "\n",
      "### 第 1 步：环境准备\n",
      "\n",
      "在运行代码前，请确保你已经安装了必要的库并设置了 API 密钥。\n",
      "\n",
      "```bash\n",
      "# 安装 LangChain 和 OpenAI 的包\n",
      "pip install langchain langchain...\n"
     ]
    }
   ],
   "source": [
    "response2 = chatbot.invoke(\n",
    "    {\"input\": \"能详细解释一下 Chain 的概念吗？\"},\n",
    "    config={\"configurable\": {\"session_id\": session_id}}\n",
    ")\n",
    "\n",
    "print(\"👤 用户:\", \"能详细解释一下 Chain 的概念吗？\")\n",
    "print(\"🤖 助手:\", response2.content[:200] + \"...\" if len(response2.content) > 200 else response2.content)\n",
    "print(\"\\n\" + \"=\"*50 + \"\\n\")\n",
    "\n",
    "# 第三轮对话\n",
    "response3 = chatbot.invoke(\n",
    "    {\"input\": \"给我一个简单的代码示例吧\"},\n",
    "    config={\"configurable\": {\"session_id\": session_id}}\n",
    ")\n",
    "\n",
    "print(\"👤 用户:\", \"给我一个简单的代码示例吧\")\n",
    "print(\"🤖 助手:\", response3.content[:200] + \"...\" if len(response3.content) > 200 else response3.content)"
   ]
  },
  {
   "cell_type": "markdown",
   "id": "2dfc2b92",
   "metadata": {},
   "source": [
    "### 📊 查看当前会话的聊天历史"
   ]
  },
  {
   "cell_type": "code",
   "execution_count": 6,
   "id": "view_chat_history",
   "metadata": {},
   "outputs": [
    {
     "name": "stdout",
     "output_type": "stream",
     "text": [
      "📝 当前会话共有 6 条消息：\n",
      "\n",
      "1. 👤 用户: 你好！我想了解一下 LangChain 的基本概念。\n",
      "\n",
      "2. 🤖 助手: \n",
      "你好！很高兴为你介绍 LangChain 的基本概念。👋\n",
      "\n",
      "简单来说，**LangChain 是一个强大的框架，专门用来构建基于大型语言模型（LLM）的应用程序。**\n",
      "\n",
      "你可以把它想象成一个“瑞士军...\n",
      "\n",
      "3. 👤 用户: 能详细解释一下 Chain 的概念吗？\n",
      "\n",
      "4. 🤖 助手: \n",
      "当然可以！我们来深入聊聊 **Chain (链)** 这个核心概念。🧐\n",
      "\n",
      "如果说 LangChain 是一个“瑞士军刀”，那么 **Chain 就是使用这些工具的“标准操作流程”**。\n",
      "\n",
      "---\n",
      "\n",
      "...\n",
      "\n",
      "5. 👤 用户: 给我一个简单的代码示例吧\n",
      "\n",
      "6. 🤖 助手: \n",
      "没问题！我们来写一个最简单、最经典的“Hello World”级别的例子：**一个简单的翻译链**。👍\n",
      "\n",
      "这个例子会把你输入的任何中文句子，翻译成英文。\n",
      "\n",
      "---\n",
      "\n",
      "### 第 1 步：环境准备\n",
      "\n",
      "...\n",
      "\n"
     ]
    }
   ],
   "source": [
    "history = get_session_history(session_id)\n",
    "print(f\"📝 当前会话共有 {len(history.messages)} 条消息：\\n\")\n",
    "\n",
    "for i, message in enumerate(history.messages, 1):\n",
    "    role = \"👤 用户\" if isinstance(message, HumanMessage) else \"🤖 助手\"\n",
    "    content = message.content[:100] + \"...\" if len(message.content) > 100 else message.content\n",
    "    print(f\"{i}. {role}: {content}\\n\")"
   ]
  },
  {
   "cell_type": "markdown",
   "id": "cdfa3044",
   "metadata": {},
   "source": [
    "### 🎯 高级功能：带标签的追踪"
   ]
  },
  {
   "cell_type": "code",
   "execution_count": 7,
   "id": "advanced_tracing",
   "metadata": {},
   "outputs": [
    {
     "name": "stdout",
     "output_type": "stream",
     "text": [
      "🏷️ 带标签的追踪已完成\n",
      "📝 响应: \n",
      "您好！很抱歉您对购买的商品不满意。退货流程通常会根据您购买商品的平台或商家有所不同，但大体上可以分为以下几个步骤：\n",
      "\n",
      "📦 **通用退货流程**\n",
      "\n",
      "1.  **查看退货政策**：首先，请在您的订单详情页或商品页面查看商家的退货政策。重点关注退货时间（如7天无理由）、商品状态要求（如未拆封、不影响二次...\n",
      "\n",
      "💡 在 LangSmith 中可以通过 'customer_service' 标签筛选此类对话\n"
     ]
    }
   ],
   "source": [
    "from langsmith import traceable\n",
    "\n",
    "@traceable(\n",
    "    name=\"智能客服对话\",\n",
    "    tags=[\"customer_service\", \"glm-4.6\", \"production\"]\n",
    ")\n",
    "def customer_service_chat(user_input: str, session_id: str) -> str:\n",
    "    \"\"\"客服聊天功能，带有自定义追踪\"\"\"\n",
    "    response = chatbot.invoke(\n",
    "        {\"input\": user_input},\n",
    "        config={\"configurable\": {\"session_id\": session_id}}\n",
    "    )\n",
    "    return response.content\n",
    "\n",
    "# 测试带标签的追踪\n",
    "customer_session = str(uuid.uuid4())\n",
    "result = customer_service_chat(\n",
    "    \"我想退货，请问流程是什么？\", \n",
    "    customer_session\n",
    ")\n",
    "\n",
    "print(\"🏷️ 带标签的追踪已完成\")\n",
    "print(f\"📝 响应: {result[:150]}...\" if len(result) > 150 else result)\n",
    "print(\"\\n💡 在 LangSmith 中可以通过 'customer_service' 标签筛选此类对话\")"
   ]
  }
 ],
 "metadata": {
  "kernelspec": {
   "display_name": "langchain",
   "language": "python",
   "name": "python3"
  },
  "language_info": {
   "codemirror_mode": {
    "name": "ipython",
    "version": 3
   },
   "file_extension": ".py",
   "mimetype": "text/x-python",
   "name": "python",
   "nbconvert_exporter": "python",
   "pygments_lexer": "ipython3",
   "version": "3.10.19"
  }
 },
 "nbformat": 4,
 "nbformat_minor": 5
}
